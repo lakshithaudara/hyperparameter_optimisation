{
 "cells": [
  {
   "cell_type": "markdown",
   "id": "2776aabb",
   "metadata": {},
   "source": [
    "### LSTM Hyper Parameter Tuning for Stock Data Using Keras\n",
    "Name - Don Lakshitha Udara\n",
    "ID - S4114011\n",
    "- MSc in Financial Technology \n",
    "- Module - A.I\n",
    "#### LSTM from Tensorflow tutorials \n",
    "https://www.tensorflow.org/tutorials\n",
    "\n",
    "<img src=\"https://miro.medium.com/max/1400/1*lFqYLNv0L_05Flk2mJ7ZSw.png\" width=600 height=400 />\n",
    "\n",
    "\n",
    "\n",
    "#### Hyper Parameters vs Model Parameters \n",
    "Hyper parameters are used in nueral network training process and they were explicitly configured, on the other hand model parameters are internal to the model itself and normally estimated automatically.\n",
    "\n",
    "#### Keras Tuner \n",
    "\n",
    "Keras tuner is a tuner offered for tensorflow machine learning applications and it can be used to pick the right combination of hyper parameters suited for the ML application.\n",
    "\n",
    "#### Keras Tuner search models\n",
    "* RandomSearch\n",
    "* Hyperband\n",
    "* BayesianOptimization\n",
    "\n",
    "\n",
    "Lets <font color='green' >Start</font> !"
   ]
  },
  {
   "cell_type": "code",
   "execution_count": 1,
   "id": "23f7d321",
   "metadata": {},
   "outputs": [],
   "source": [
    "#Importing the libraries \n",
    "import os\n",
    "import numpy as np\n",
    "import tensorflow as tf\n",
    "from tensorflow import keras\n",
    "import pandas as pd\n",
    "import seaborn as sns\n",
    "from pylab import rcParams\n",
    "import matplotlib.pyplot as plt\n",
    "from matplotlib import rc\n",
    "from sklearn.preprocessing import MinMaxScaler\n",
    "from tensorflow.keras.layers import Bidirectional, Dropout, Activation, Dense, LSTM\n",
    "from tensorflow.python.keras.layers import CuDNNLSTM\n",
    "from tensorflow.keras.models import Sequential\n",
    "import eikon as ek\n",
    "import keras_tuner as kt"
   ]
  },
  {
   "cell_type": "markdown",
   "id": "e2d96fb8",
   "metadata": {},
   "source": [
    "#### Before we go any further lets check the version numbers just for a good measure and to avoid unexpected version related exceptions , if you are getting version related exceptions , it is recomended to setup an enviroment with following versions "
   ]
  },
  {
   "cell_type": "code",
   "execution_count": 2,
   "id": "3571b9ff",
   "metadata": {
    "scrolled": true
   },
   "outputs": [
    {
     "name": "stdout",
     "output_type": "stream",
     "text": [
      "Python version\n",
      "3.9.7\n",
      "Tensorflow Version\n",
      "2.8.0\n",
      "Seaborn\n",
      "0.11.2\n",
      "Pandas Version\n",
      "1.4.2\n",
      "Keras Version\n",
      "2.8.0\n",
      "Keras Tuner Version\n",
      "1.1.2\n"
     ]
    }
   ],
   "source": [
    "from platform import python_version\n",
    "print (\"Python version\")\n",
    "print (python_version())\n",
    "print (\"Tensorflow Version\") \n",
    "print(tf.__version__)\n",
    "print (\"Seaborn\") \n",
    "print(sns.__version__)\n",
    "print (\"Pandas Version\") \n",
    "print(pd.__version__)\n",
    "print (\"Keras Version\") \n",
    "print(keras.__version__)\n",
    "print (\"Keras Tuner Version\") \n",
    "print(kt.__version__)\n",
    "  "
   ]
  },
  {
   "cell_type": "code",
   "execution_count": 3,
   "id": "d6e4375b",
   "metadata": {},
   "outputs": [
    {
     "name": "stderr",
     "output_type": "stream",
     "text": [
      "2022-06-21 09:37:13,698 P[23088] [MainThread 23488] Error: no proxy address identified.\n",
      "Check if Eikon Desktop or Eikon API Proxy is running.\n",
      "2022-06-21 09:37:13,698 P[23088] [MainThread 23488] Error on handshake url http://127.0.0.1:None/api/handshake : UnsupportedProtocol(\"Request URL is missing an 'http://' or 'https://' protocol.\")\n",
      "2022-06-21 09:37:13,698 P[23088] [MainThread 23488] Error on handshake url http://127.0.0.1:None/api/handshake : UnsupportedProtocol(\"Request URL is missing an 'http://' or 'https://' protocol.\")\n",
      "2022-06-21 09:37:13,698 P[23088] [MainThread 23488] Port number was not identified, cannot send any request\n"
     ]
    }
   ],
   "source": [
    "#setting up some parameters \n",
    "%matplotlib inline\n",
    "\n",
    "sns.set(style='whitegrid', palette='muted', font_scale=1.5)\n",
    "\n",
    "rcParams['figure.figsize'] = 8, 4\n",
    "\n",
    "RANDOM_SEED = 42\n",
    "\n",
    "np.random.seed(RANDOM_SEED)\n",
    "RIC_LIST = ['.FTSE']\n",
    "ek.set_app_key('8da94a9712004a2fab768b27a5d4aa6e062e3ec3')"
   ]
  },
  {
   "cell_type": "code",
   "execution_count": 4,
   "id": "88a01508",
   "metadata": {},
   "outputs": [],
   "source": [
    "# saving the Data in a file in case connectivity errors with refinitiv\n",
    "if not os.path.isfile('./ftse_data_file.csv'):\n",
    " \n",
    "    df = ek.get_timeseries(RIC_LIST,\n",
    "                           start_date='2014-01-01',\n",
    "                           end_date='2022-03-31',\n",
    "                         interval='daily',)\n",
    "    df.to_csv('./ftse_data_file.csv')\n",
    "else:\n",
    "    df = pd.read_csv('./ftse_data_file.csv',index_col='Date',parse_dates=True)"
   ]
  },
  {
   "cell_type": "markdown",
   "id": "81c06ebf",
   "metadata": {},
   "source": [
    "### Lets See How the data set Looks like\n"
   ]
  },
  {
   "cell_type": "code",
   "execution_count": 5,
   "id": "20837175",
   "metadata": {
    "scrolled": true
   },
   "outputs": [
    {
     "data": {
      "text/html": [
       "<div>\n",
       "<style scoped>\n",
       "    .dataframe tbody tr th:only-of-type {\n",
       "        vertical-align: middle;\n",
       "    }\n",
       "\n",
       "    .dataframe tbody tr th {\n",
       "        vertical-align: top;\n",
       "    }\n",
       "\n",
       "    .dataframe thead th {\n",
       "        text-align: right;\n",
       "    }\n",
       "</style>\n",
       "<table border=\"1\" class=\"dataframe\">\n",
       "  <thead>\n",
       "    <tr style=\"text-align: right;\">\n",
       "      <th></th>\n",
       "      <th>HIGH</th>\n",
       "      <th>CLOSE</th>\n",
       "      <th>LOW</th>\n",
       "      <th>OPEN</th>\n",
       "      <th>VOLUME</th>\n",
       "    </tr>\n",
       "    <tr>\n",
       "      <th>Date</th>\n",
       "      <th></th>\n",
       "      <th></th>\n",
       "      <th></th>\n",
       "      <th></th>\n",
       "      <th></th>\n",
       "    </tr>\n",
       "  </thead>\n",
       "  <tbody>\n",
       "    <tr>\n",
       "      <th>2014-01-02</th>\n",
       "      <td>6759.37</td>\n",
       "      <td>6717.91</td>\n",
       "      <td>6707.48</td>\n",
       "      <td>6749.09</td>\n",
       "      <td>459529089.0</td>\n",
       "    </tr>\n",
       "    <tr>\n",
       "      <th>2014-01-03</th>\n",
       "      <td>6747.33</td>\n",
       "      <td>6730.67</td>\n",
       "      <td>6699.27</td>\n",
       "      <td>6717.91</td>\n",
       "      <td>374841419.0</td>\n",
       "    </tr>\n",
       "    <tr>\n",
       "      <th>2014-01-06</th>\n",
       "      <td>6751.98</td>\n",
       "      <td>6730.73</td>\n",
       "      <td>6714.64</td>\n",
       "      <td>6730.67</td>\n",
       "      <td>524386927.0</td>\n",
       "    </tr>\n",
       "    <tr>\n",
       "      <th>2014-01-07</th>\n",
       "      <td>6768.89</td>\n",
       "      <td>6755.45</td>\n",
       "      <td>6718.07</td>\n",
       "      <td>6730.73</td>\n",
       "      <td>672375580.0</td>\n",
       "    </tr>\n",
       "    <tr>\n",
       "      <th>2014-01-08</th>\n",
       "      <td>6755.53</td>\n",
       "      <td>6721.78</td>\n",
       "      <td>6713.39</td>\n",
       "      <td>6755.45</td>\n",
       "      <td>720025203.0</td>\n",
       "    </tr>\n",
       "  </tbody>\n",
       "</table>\n",
       "</div>"
      ],
      "text/plain": [
       "               HIGH    CLOSE      LOW     OPEN       VOLUME\n",
       "Date                                                       \n",
       "2014-01-02  6759.37  6717.91  6707.48  6749.09  459529089.0\n",
       "2014-01-03  6747.33  6730.67  6699.27  6717.91  374841419.0\n",
       "2014-01-06  6751.98  6730.73  6714.64  6730.67  524386927.0\n",
       "2014-01-07  6768.89  6755.45  6718.07  6730.73  672375580.0\n",
       "2014-01-08  6755.53  6721.78  6713.39  6755.45  720025203.0"
      ]
     },
     "execution_count": 5,
     "metadata": {},
     "output_type": "execute_result"
    }
   ],
   "source": [
    "df.head()"
   ]
  },
  {
   "cell_type": "code",
   "execution_count": 6,
   "id": "db1a1469",
   "metadata": {},
   "outputs": [
    {
     "data": {
      "text/plain": [
       "(2087, 5)"
      ]
     },
     "execution_count": 6,
     "metadata": {},
     "output_type": "execute_result"
    }
   ],
   "source": [
    "df.shape"
   ]
  },
  {
   "cell_type": "code",
   "execution_count": 1,
   "id": "4fe92e9b",
   "metadata": {},
   "outputs": [
    {
     "ename": "NameError",
     "evalue": "name 'df' is not defined",
     "output_type": "error",
     "traceback": [
      "\u001b[1;31m---------------------------------------------------------------------------\u001b[0m",
      "\u001b[1;31mNameError\u001b[0m                                 Traceback (most recent call last)",
      "\u001b[1;32m~\\AppData\\Local\\Temp/ipykernel_26176/3380326488.py\u001b[0m in \u001b[0;36m<module>\u001b[1;34m\u001b[0m\n\u001b[1;32m----> 1\u001b[1;33m \u001b[0mdf\u001b[0m\u001b[1;33m.\u001b[0m\u001b[0mplot\u001b[0m\u001b[1;33m(\u001b[0m\u001b[1;33m)\u001b[0m\u001b[1;33m\u001b[0m\u001b[1;33m\u001b[0m\u001b[0m\n\u001b[0m",
      "\u001b[1;31mNameError\u001b[0m: name 'df' is not defined"
     ]
    }
   ],
   "source": [
    "df.plot()"
   ]
  },
  {
   "cell_type": "code",
   "execution_count": 8,
   "id": "36670607",
   "metadata": {
    "scrolled": false
   },
   "outputs": [
    {
     "data": {
      "text/plain": [
       "<AxesSubplot:ylabel='Density'>"
      ]
     },
     "execution_count": 8,
     "metadata": {},
     "output_type": "execute_result"
    },
    {
     "data": {
      "image/png": "[encoded data removed]",
      "text/plain": [
       "<Figure size 576x360 with 1 Axes>"
      ]
     },
     "metadata": {},
     "output_type": "display_data"
    }
   ],
   "source": [
    "#Distribution of the dataset - picking the Close values only\n",
    " \n",
    "df['CLOSE'].plot(kind='kde',figsize=(8, 5)) "
   ]
  },
  {
   "cell_type": "markdown",
   "id": "af35034c",
   "metadata": {},
   "source": [
    "#### Time Series Decompose \n",
    "- Lets see the seasonality of the time series\n",
    "\n",
    "##### Why  seasonal components important ?\n",
    "\n",
    "In a time series data set there can be containing cycle that repeat over the time , this time period can be a constant , if its the case , then that such component is called a seasonal component and perticular component which has repeating cycles can obscure the model for forecasting,\n",
    "\n",
    "https://www.section.io/engineering-education/time-series-decomposition-in-python/"
   ]
  },
  {
   "cell_type": "code",
   "execution_count": 9,
   "id": "1ff935ca",
   "metadata": {},
   "outputs": [],
   "source": [
    "from statsmodels.tsa.seasonal import seasonal_decompose\n",
    "\n",
    "ts_decompose_add = seasonal_decompose(x=df['CLOSE'], \n",
    "                                          model='additive', \n",
    "                                          period=36)\n",
    "estimated_trend_add = ts_decompose_add.trend\n",
    "estimated_seasonal_add = ts_decompose_add.seasonal\n",
    "estimated_residual_add = ts_decompose_add.resid"
   ]
  },
  {
   "cell_type": "code",
   "execution_count": 10,
   "id": "ee202018",
   "metadata": {},
   "outputs": [
    {
     "data": {
      "image/png": "[encoded data removed]",
      "text/plain": [
       "<Figure size 576x864 with 4 Axes>"
      ]
     },
     "metadata": {},
     "output_type": "display_data"
    }
   ],
   "source": [
    "fig, axes = plt.subplots(4, 1, sharex=True, sharey=False)\n",
    "fig.set_figheight(12)\n",
    "fig.set_figwidth(8)\n",
    "\n",
    "axes[0].plot(df['CLOSE'], label='Original')\n",
    "axes[0].legend(loc='upper left');\n",
    "\n",
    "axes[1].plot(estimated_trend_add, label='Trend')\n",
    "axes[1].legend(loc='upper left');\n",
    "\n",
    "axes[2].plot(estimated_seasonal_add, label='Cyclic')\n",
    "axes[2].legend(loc='upper left');\n",
    "\n",
    "axes[3].plot(estimated_residual_add, label='Residuals')\n",
    "axes[3].legend(loc='upper left');"
   ]
  },
  {
   "cell_type": "markdown",
   "id": "7f3d9fef",
   "metadata": {},
   "source": [
    "#### Lets prepare our data set now"
   ]
  },
  {
   "cell_type": "code",
   "execution_count": 11,
   "id": "76f18829",
   "metadata": {},
   "outputs": [],
   "source": [
    "scaler = MinMaxScaler()\n",
    "close_price = df.filter(['Date', 'CLOSE'])\n",
    "scaler.fit(close_price)\n",
    "scaled_close = scaler.transform(close_price)\n"
   ]
  },
  {
   "cell_type": "code",
   "execution_count": 12,
   "id": "4285f09d",
   "metadata": {},
   "outputs": [
    {
     "data": {
      "text/plain": [
       "False"
      ]
     },
     "execution_count": 12,
     "metadata": {},
     "output_type": "execute_result"
    }
   ],
   "source": [
    "#Taking only the close values\n",
    "df = df['CLOSE'].values\n",
    "df = df.reshape(-1, 1)\n",
    "np.isnan(scaled_close).any() # checking nan values"
   ]
  },
  {
   "cell_type": "code",
   "execution_count": 13,
   "id": "efd4223d",
   "metadata": {},
   "outputs": [],
   "source": [
    "trainSet = np.array(df[:int(df.shape[0]*0.8)]) # 80 : 20 rule ? read this on some paper , not sure where I got this \n",
    "testSet = np.array(df[int(df.shape[0]*0.8):])"
   ]
  },
  {
   "cell_type": "code",
   "execution_count": 14,
   "id": "9dd984ef",
   "metadata": {},
   "outputs": [],
   "source": [
    "scaler = MinMaxScaler(feature_range=(0,1)) # by far the easiest scalar \n",
    "trainSet = scaler.fit_transform(trainSet)\n",
    "testSet = scaler.transform(testSet)"
   ]
  },
  {
   "cell_type": "code",
   "execution_count": 15,
   "id": "6de8958f",
   "metadata": {},
   "outputs": [],
   "source": [
    "def create_dataset(df):\n",
    "    x = []\n",
    "    y = []\n",
    "    for i in range(50, df.shape[0]):\n",
    "        x.append(df[i-50:i, 0])\n",
    "        y.append(df[i, 0])\n",
    "    x = np.array(x)\n",
    "    y = np.array(y)\n",
    "    return x,y"
   ]
  },
  {
   "cell_type": "code",
   "execution_count": 16,
   "id": "9170311b",
   "metadata": {},
   "outputs": [],
   "source": [
    "xTrain, yTrain = create_dataset(trainSet)\n",
    "xTest, yTest = create_dataset(testSet)\n"
   ]
  },
  {
   "cell_type": "code",
   "execution_count": 17,
   "id": "b7f13906",
   "metadata": {},
   "outputs": [],
   "source": [
    "xTrain = np.reshape(xTrain, (xTrain.shape[0], xTrain.shape[1], 1))\n",
    "xTest = np.reshape(xTest, (xTest.shape[0], xTest.shape[1], 1))\n",
    "\n"
   ]
  },
  {
   "cell_type": "code",
   "execution_count": 18,
   "id": "aa894ec2",
   "metadata": {
    "scrolled": true
   },
   "outputs": [
    {
     "name": "stdout",
     "output_type": "stream",
     "text": [
      "xTrain Shape  (1619, 50, 1)\n",
      "yTrain Shape  (1619,)\n",
      "xTest Shape  (368, 50, 1)\n",
      "xTest Shape  (368,)\n"
     ]
    }
   ],
   "source": [
    "#Lets see the shapes \n",
    "print(  \"xTrain Shape \",xTrain.shape )\n",
    "print(  \"yTrain Shape \",yTrain.shape )\n",
    "print(  \"xTest Shape \",xTest.shape )\n",
    "print(  \"xTest Shape \",yTest.shape )"
   ]
  },
  {
   "cell_type": "markdown",
   "id": "9cddf958",
   "metadata": {},
   "source": [
    "#### Lets Start Hyper Parameter Tuning "
   ]
  },
  {
   "cell_type": "code",
   "execution_count": 19,
   "id": "244329bd",
   "metadata": {},
   "outputs": [],
   "source": [
    "from tensorflow import keras\n",
    "from keras_tuner.tuners import RandomSearch\n",
    "from keras_tuner.tuners import Hyperband\n",
    "from tensorflow.keras import layers\n",
    "from keras_tuner import HyperModel\n",
    "from tensorflow.keras.losses import MeanSquaredLogarithmicError\n",
    "msle = MeanSquaredLogarithmicError()"
   ]
  },
  {
   "cell_type": "markdown",
   "id": "d7d84dff",
   "metadata": {},
   "source": [
    "#### Model\n",
    "\n",
    "Creating a custom Hyper model class Hyper model ( normal class would be just fine )\n",
    "This step is optional for the tuning, but if you are going to tune batch size and epoch size extending keras model and tuner is important since it does not support that by default\n",
    "\n",
    " \n",
    "#### Key take away here is to understanding of the model\n",
    "\n",
    "- Layers \n",
    "\n",
    "It's the number of hidden layers between input and output , and it's important to configure this carefully \n",
    "sometimes too many layers can cause your model to over fitting as well as smaller number of layers can make it under fitting.\n",
    "\n",
    "- Number of units in a layer \n",
    "\n",
    "This will describe how many nodes or neuron units in a dense layer , each neuron is connected to the other neuron in the layer with densely manner and each unit of neuron responsible of receiving an input and emitting an output.\n",
    "\n",
    "- Drop outs \n",
    "\n",
    "It's good practice to have an additional dropout layer in a model , because it fill tolerate the over fitting of a model. and in general, drop out layer will be aligned with the input and not with the output layer because it may cause final output calculation problems\n",
    "\n",
    "- Learning Rate \n",
    "\n",
    "Learning rate indicates how fast your model can update its parameters, higher learning rate means the model can learn faster but this does not mean it will be an accurate learning, at the same time lower learning rates can be accurate in most of the times but the training process will be slow , therefore having the balance is important\n",
    "\n",
    "-  Optimizer \n",
    "\n",
    "Adam optimizer will be used in this example and there are several other optimizers for keras and tensor flow \n",
    "\n",
    "SGD\n",
    "RMSprop\n",
    "Adam\n",
    "Adadelta\n",
    "Adagrad\n",
    "Adamax\n",
    "Nadam\n",
    "Ftrl\n",
    "refere this Keras page for more information, it's indicated in most reseaerch works that Adam is the best for time series data ( I have tried many of the optimizers in Big Data assignment and it's hard to beat Adam hence not going to test it out here )\n",
    "\n",
    "official documentation :\n",
    "https://keras.io/api/optimizers/\n",
    "\n",
    "- Activation Function \n",
    "\n",
    "Activation function in this example is  relu , Activation function is what defines the output, \n",
    "please refer the keras official documentation for activation functions and get to know about sigmoid , tanh , relu , selu leaky relu , softplus , softmax....etc \n",
    "\n",
    "https://keras.io/api/layers/activations/\n",
    "\n",
    "Further refer this GIT project ( which is part of the additional resources )\n",
    "\n",
    "https://github.com/zmyzheng/Neural-Networks-and-Deep-Learning/tree/master/Improving%20Deep%20Neural%20Networks%20-%20Hyperparameter%20tuning%2C%20Regularization%20and%20Optimization\n"
   ]
  },
  {
   "cell_type": "code",
   "execution_count": 20,
   "id": "c9107382",
   "metadata": {},
   "outputs": [],
   "source": [
    "class LSTMHyperModel(HyperModel):\n",
    "    \n",
    "    def build(self, hp):\n",
    "      model = tf.keras.Sequential()\n",
    "      model.add(LSTM(units=hp.Int('units',min_value=32,\n",
    "                                    max_value=512,\n",
    "                                    step=32), \n",
    "               activation='relu', input_shape=(50, 1)))  \n",
    "      hp_units1 = hp.Int('units1', min_value=32, max_value=512, step=32)\n",
    "      hp_units2 = hp.Int('units2', min_value=32, max_value=512, step=32)\n",
    "      hp_units3 = hp.Int('units3', min_value=32, max_value=512, step=32)\n",
    "    \n",
    "      model.add(Dense(units=hp_units1, activation='relu'))\n",
    "      model.add(tf.keras.layers.Dense(units=hp_units2, activation='relu'))\n",
    "      model.add(tf.keras.layers.Dense(units=hp_units3, activation='relu'))\n",
    "      model.add(Dense(1, kernel_initializer='normal', activation='linear'))\n",
    "      model.add(keras.layers.Dropout(hp.Float('dropout', 0.1, 0.5, step=0.1, default=0.5)))\n",
    "\n",
    "      # Tune the learning rate for the optimizer\n",
    "      # Choose an optimal value from 0.01, 0.001, or 0.0001\n",
    "      hp_learning_rate = hp.Choice('learning_rate', values=[1e-2, 1e-3, 1e-4])\n",
    "      \n",
    "\n",
    "      model.compile(\n",
    "          optimizer=tf.keras.optimizers.Adam(learning_rate=hp_learning_rate),\n",
    "          loss=msle,\n",
    "          metrics=[msle]\n",
    "      )\n",
    "\n",
    "      return model"
   ]
  },
  {
   "cell_type": "markdown",
   "id": "524e5d99",
   "metadata": {},
   "source": [
    "### Hyperband\n",
    "#### Hyperband tuning and modeling"
   ]
  },
  {
   "cell_type": "code",
   "execution_count": 21,
   "id": "c2a4dd33",
   "metadata": {},
   "outputs": [
    {
     "name": "stdout",
     "output_type": "stream",
     "text": [
      "INFO:tensorflow:Reloading Oracle from existing project hyperband\\AI\\oracle.json\n"
     ]
    },
    {
     "name": "stderr",
     "output_type": "stream",
     "text": [
      "2022-06-21 09:37:54,032 P[23088] [MainThread 23488] Reloading Oracle from existing project hyperband\\AI\\oracle.json\n"
     ]
    },
    {
     "name": "stdout",
     "output_type": "stream",
     "text": [
      "INFO:tensorflow:Reloading Tuner from hyperband\\AI\\tuner0.json\n"
     ]
    },
    {
     "name": "stderr",
     "output_type": "stream",
     "text": [
      "2022-06-21 09:37:54,711 P[23088] [MainThread 23488] Reloading Tuner from hyperband\\AI\\tuner0.json\n"
     ]
    }
   ],
   "source": [
    "hypermodel = LSTMHyperModel()\n",
    "\n",
    "hpTuner = kt.Hyperband(\n",
    "    hypermodel,\n",
    "    objective='val_mean_squared_logarithmic_error',\n",
    "    max_epochs=50,\n",
    "    factor=3, # means 50 x3 iterations \n",
    "    directory='hyperband',\n",
    "    project_name='AI'\n",
    ")\n",
    "# Logs will be saved in the given directort - remember when you run again it will start resume from the logs , \n",
    "# if you don't want this feature parse overwrite = True param"
   ]
  },
  {
   "cell_type": "code",
   "execution_count": 22,
   "id": "3b5d24be",
   "metadata": {},
   "outputs": [],
   "source": [
    "#un comment this if you want to use the early stopping call back\n",
    "#callbacks = [tf.keras.callbacks.EarlyStopping('val_loss', patience=3)]; \n",
    "# using this because to feed values to the tensor dashboard \n",
    "callbacks =[keras.callbacks.TensorBoard(\"/tmp/tb_logs\")]"
   ]
  },
  {
   "cell_type": "code",
   "execution_count": 23,
   "id": "5720d326",
   "metadata": {
    "scrolled": false
   },
   "outputs": [
    {
     "name": "stdout",
     "output_type": "stream",
     "text": [
      "INFO:tensorflow:Oracle triggered exit\n"
     ]
    },
    {
     "name": "stderr",
     "output_type": "stream",
     "text": [
      "2022-06-21 09:38:18,951 P[23088] [MainThread 23488] Oracle triggered exit\n"
     ]
    }
   ],
   "source": [
    "#hpTuner.search(trainX, trainY, epochs=25, validation_split=0.2,validation_data=(testX, testY))\n",
    "hpTuner.search(xTrain, yTrain, epochs=25, validation_split=0.2,validation_data=(xTest, yTest),callbacks = callbacks)\n"
   ]
  },
  {
   "cell_type": "markdown",
   "id": "28955091",
   "metadata": {},
   "source": [
    "#### Why not loading tensor board and see the visualization of the hyper-parameer tuning , \n",
    "- once loaded look for Graphs to see the training graph\n",
    "- check Time series to see the epoch loss\n",
    "- check Hyper parameters on HParams\n",
    "there are lot more to see , but this step is completely optional , but informative !!"
   ]
  },
  {
   "cell_type": "code",
   "execution_count": 24,
   "id": "8c96660b",
   "metadata": {},
   "outputs": [
    {
     "data": {
      "text/plain": [
       "Reusing TensorBoard on port 6006 (pid 33720), started 2 days, 14:28:04 ago. (Use '!kill 33720' to kill it.)"
      ]
     },
     "metadata": {},
     "output_type": "display_data"
    },
    {
     "data": {
      "text/html": [
       "\n",
       "      <iframe id=\"tensorboard-frame-27e732e1c6198275\" width=\"100%\" height=\"800\" frameborder=\"0\">\n",
       "      </iframe>\n",
       "      <script>\n",
       "        (function() {\n",
       "          const frame = document.getElementById(\"tensorboard-frame-27e732e1c6198275\");\n",
       "          const url = new URL(\"/\", window.location);\n",
       "          const port = 6006;\n",
       "          if (port) {\n",
       "            url.port = port;\n",
       "          }\n",
       "          frame.src = url;\n",
       "        })();\n",
       "      </script>\n",
       "    "
      ],
      "text/plain": [
       "<IPython.core.display.HTML object>"
      ]
     },
     "metadata": {},
     "output_type": "display_data"
    }
   ],
   "source": [
    "#loading tensor board may take some time , if it's not loaded , just ignore the step \n",
    "%load_ext tensorboard\n",
    "\n",
    "%tensorboard --logdir /tmp/tb_logs"
   ]
  },
  {
   "cell_type": "code",
   "execution_count": 39,
   "id": "c70c38c6",
   "metadata": {},
   "outputs": [
    {
     "name": "stdout",
     "output_type": "stream",
     "text": [
      "{'units': 64, 'units1': 448, 'units2': 416, 'units3': 96, 'dropout': 0.2, 'learning_rate': 0.01, 'tuner/epochs': 4, 'tuner/initial_epoch': 0, 'tuner/bracket': 1, 'tuner/round': 0}\n"
     ]
    }
   ],
   "source": [
    "bestHpsHB = hpTuner.get_best_hyperparameters()[0]\n",
    "print(bestHpsHB.values)\n",
    "\n"
   ]
  },
  {
   "cell_type": "code",
   "execution_count": 40,
   "id": "d081161a",
   "metadata": {},
   "outputs": [
    {
     "data": {
      "text/plain": [
       "{'units': 64,\n",
       " 'units1': 448,\n",
       " 'units2': 416,\n",
       " 'units3': 96,\n",
       " 'dropout': 0.2,\n",
       " 'learning_rate': 0.01,\n",
       " 'tuner/epochs': 4,\n",
       " 'tuner/initial_epoch': 0,\n",
       " 'tuner/bracket': 1,\n",
       " 'tuner/round': 0}"
      ]
     },
     "execution_count": 40,
     "metadata": {},
     "output_type": "execute_result"
    }
   ],
   "source": [
    "best_hps=hpTuner.get_best_hyperparameters(num_trials=1)[0]\n",
    "best_hps.values"
   ]
  },
  {
   "cell_type": "code",
   "execution_count": null,
   "id": "e8146f9e",
   "metadata": {},
   "outputs": [],
   "source": []
  },
  {
   "cell_type": "code",
   "execution_count": 27,
   "id": "633e5f28",
   "metadata": {},
   "outputs": [],
   "source": [
    "\n",
    "hbModel= hpTuner.get_best_models()[0]"
   ]
  },
  {
   "cell_type": "code",
   "execution_count": 28,
   "id": "4ddaa92e",
   "metadata": {},
   "outputs": [
    {
     "name": "stdout",
     "output_type": "stream",
     "text": [
      "Epoch 1/50\n",
      "51/51 [==============================] - 3s 28ms/step - loss: 0.0520 - mean_squared_logarithmic_error: 0.0517 - val_loss: 0.0075 - val_mean_squared_logarithmic_error: 0.0076\n",
      "Epoch 2/50\n",
      "51/51 [==============================] - 1s 22ms/step - loss: 0.0562 - mean_squared_logarithmic_error: 0.0558 - val_loss: 0.0074 - val_mean_squared_logarithmic_error: 0.0076\n",
      "Epoch 3/50\n",
      "51/51 [==============================] - 1s 22ms/step - loss: 0.0544 - mean_squared_logarithmic_error: 0.0541 - val_loss: 0.0064 - val_mean_squared_logarithmic_error: 0.0065\n",
      "Epoch 4/50\n",
      "51/51 [==============================] - 1s 21ms/step - loss: 0.0575 - mean_squared_logarithmic_error: 0.0577 - val_loss: 0.0077 - val_mean_squared_logarithmic_error: 0.0078\n",
      "Epoch 5/50\n",
      "51/51 [==============================] - 1s 22ms/step - loss: 0.0526 - mean_squared_logarithmic_error: 0.0527 - val_loss: 0.0059 - val_mean_squared_logarithmic_error: 0.0060\n",
      "Epoch 6/50\n",
      "51/51 [==============================] - 1s 22ms/step - loss: 0.0522 - mean_squared_logarithmic_error: 0.0523 - val_loss: 0.0071 - val_mean_squared_logarithmic_error: 0.0072\n",
      "Epoch 7/50\n",
      "51/51 [==============================] - 1s 22ms/step - loss: 0.0513 - mean_squared_logarithmic_error: 0.0511 - val_loss: 0.0080 - val_mean_squared_logarithmic_error: 0.0081\n",
      "Epoch 8/50\n",
      "51/51 [==============================] - 1s 22ms/step - loss: 0.0491 - mean_squared_logarithmic_error: 0.0490 - val_loss: 0.0075 - val_mean_squared_logarithmic_error: 0.0076\n",
      "Epoch 9/50\n",
      "51/51 [==============================] - 1s 22ms/step - loss: 0.0537 - mean_squared_logarithmic_error: 0.0536 - val_loss: 0.0058 - val_mean_squared_logarithmic_error: 0.0059\n",
      "Epoch 10/50\n",
      "51/51 [==============================] - 1s 22ms/step - loss: 0.0546 - mean_squared_logarithmic_error: 0.0546 - val_loss: 0.0079 - val_mean_squared_logarithmic_error: 0.0081\n",
      "Epoch 11/50\n",
      "51/51 [==============================] - 1s 22ms/step - loss: 0.0505 - mean_squared_logarithmic_error: 0.0510 - val_loss: 0.0081 - val_mean_squared_logarithmic_error: 0.0082\n",
      "Epoch 12/50\n",
      "51/51 [==============================] - 1s 22ms/step - loss: 0.0574 - mean_squared_logarithmic_error: 0.0572 - val_loss: 0.0059 - val_mean_squared_logarithmic_error: 0.0060\n",
      "Epoch 13/50\n",
      "51/51 [==============================] - 1s 22ms/step - loss: 0.0615 - mean_squared_logarithmic_error: 0.0612 - val_loss: 0.0093 - val_mean_squared_logarithmic_error: 0.0094\n",
      "Epoch 14/50\n",
      "51/51 [==============================] - 1s 22ms/step - loss: 0.0565 - mean_squared_logarithmic_error: 0.0565 - val_loss: 0.0090 - val_mean_squared_logarithmic_error: 0.0091\n",
      "Epoch 15/50\n",
      "51/51 [==============================] - 1s 22ms/step - loss: 0.0580 - mean_squared_logarithmic_error: 0.0583 - val_loss: 0.0090 - val_mean_squared_logarithmic_error: 0.0091\n",
      "Epoch 16/50\n",
      "51/51 [==============================] - 1s 22ms/step - loss: 0.0543 - mean_squared_logarithmic_error: 0.0542 - val_loss: 0.0062 - val_mean_squared_logarithmic_error: 0.0063\n",
      "Epoch 17/50\n",
      "51/51 [==============================] - 1s 22ms/step - loss: 0.0502 - mean_squared_logarithmic_error: 0.0501 - val_loss: 0.0089 - val_mean_squared_logarithmic_error: 0.0090\n",
      "Epoch 18/50\n",
      "51/51 [==============================] - 1s 22ms/step - loss: 0.0577 - mean_squared_logarithmic_error: 0.0579 - val_loss: 0.0055 - val_mean_squared_logarithmic_error: 0.0056\n",
      "Epoch 19/50\n",
      "51/51 [==============================] - 1s 22ms/step - loss: 0.0472 - mean_squared_logarithmic_error: 0.0472 - val_loss: 0.0089 - val_mean_squared_logarithmic_error: 0.0090\n",
      "Epoch 20/50\n",
      "51/51 [==============================] - 1s 22ms/step - loss: 0.0569 - mean_squared_logarithmic_error: 0.0567 - val_loss: 0.0094 - val_mean_squared_logarithmic_error: 0.0095\n",
      "Epoch 21/50\n",
      "51/51 [==============================] - 1s 22ms/step - loss: 0.0556 - mean_squared_logarithmic_error: 0.0554 - val_loss: 0.0059 - val_mean_squared_logarithmic_error: 0.0060\n",
      "Epoch 22/50\n",
      "51/51 [==============================] - 1s 22ms/step - loss: 0.0520 - mean_squared_logarithmic_error: 0.0524 - val_loss: 0.0084 - val_mean_squared_logarithmic_error: 0.0086\n",
      "Epoch 23/50\n",
      "51/51 [==============================] - 1s 23ms/step - loss: 0.0516 - mean_squared_logarithmic_error: 0.0514 - val_loss: 0.0062 - val_mean_squared_logarithmic_error: 0.0062\n",
      "Epoch 24/50\n",
      "51/51 [==============================] - 1s 22ms/step - loss: 0.0535 - mean_squared_logarithmic_error: 0.0535 - val_loss: 0.0100 - val_mean_squared_logarithmic_error: 0.0101\n",
      "Epoch 25/50\n",
      "51/51 [==============================] - 1s 22ms/step - loss: 0.0543 - mean_squared_logarithmic_error: 0.0542 - val_loss: 0.0057 - val_mean_squared_logarithmic_error: 0.0058\n",
      "Epoch 26/50\n",
      "51/51 [==============================] - 1s 22ms/step - loss: 0.0492 - mean_squared_logarithmic_error: 0.0489 - val_loss: 0.0074 - val_mean_squared_logarithmic_error: 0.0075\n",
      "Epoch 27/50\n",
      "51/51 [==============================] - 1s 22ms/step - loss: 0.0506 - mean_squared_logarithmic_error: 0.0503 - val_loss: 0.0038 - val_mean_squared_logarithmic_error: 0.0038\n",
      "Epoch 28/50\n",
      "51/51 [==============================] - 1s 22ms/step - loss: 0.0563 - mean_squared_logarithmic_error: 0.0563 - val_loss: 0.0070 - val_mean_squared_logarithmic_error: 0.0071\n",
      "Epoch 29/50\n",
      "51/51 [==============================] - 1s 22ms/step - loss: 0.0511 - mean_squared_logarithmic_error: 0.0510 - val_loss: 0.0079 - val_mean_squared_logarithmic_error: 0.0081\n",
      "Epoch 30/50\n",
      "51/51 [==============================] - 1s 23ms/step - loss: 0.0557 - mean_squared_logarithmic_error: 0.0559 - val_loss: 0.0081 - val_mean_squared_logarithmic_error: 0.0082\n",
      "Epoch 31/50\n",
      "51/51 [==============================] - 1s 23ms/step - loss: 0.0575 - mean_squared_logarithmic_error: 0.0575 - val_loss: 0.0089 - val_mean_squared_logarithmic_error: 0.0090\n",
      "Epoch 32/50\n",
      "51/51 [==============================] - 1s 23ms/step - loss: 0.0584 - mean_squared_logarithmic_error: 0.0582 - val_loss: 0.0088 - val_mean_squared_logarithmic_error: 0.0089\n",
      "Epoch 33/50\n",
      "51/51 [==============================] - 1s 23ms/step - loss: 0.0576 - mean_squared_logarithmic_error: 0.0575 - val_loss: 0.0100 - val_mean_squared_logarithmic_error: 0.0101\n",
      "Epoch 34/50\n",
      "51/51 [==============================] - 1s 22ms/step - loss: 0.0535 - mean_squared_logarithmic_error: 0.0538 - val_loss: 0.0074 - val_mean_squared_logarithmic_error: 0.0075\n",
      "Epoch 35/50\n",
      "51/51 [==============================] - 1s 22ms/step - loss: 0.0546 - mean_squared_logarithmic_error: 0.0546 - val_loss: 0.0047 - val_mean_squared_logarithmic_error: 0.0048\n",
      "Epoch 36/50\n",
      "51/51 [==============================] - 1s 22ms/step - loss: 0.0537 - mean_squared_logarithmic_error: 0.0535 - val_loss: 0.0073 - val_mean_squared_logarithmic_error: 0.0074\n",
      "Epoch 37/50\n",
      "51/51 [==============================] - 1s 22ms/step - loss: 0.0576 - mean_squared_logarithmic_error: 0.0575 - val_loss: 0.0070 - val_mean_squared_logarithmic_error: 0.0070\n",
      "Epoch 38/50\n",
      "51/51 [==============================] - 1s 23ms/step - loss: 0.0526 - mean_squared_logarithmic_error: 0.0525 - val_loss: 0.0072 - val_mean_squared_logarithmic_error: 0.0072\n",
      "Epoch 39/50\n",
      "51/51 [==============================] - 1s 22ms/step - loss: 0.0495 - mean_squared_logarithmic_error: 0.0493 - val_loss: 0.0071 - val_mean_squared_logarithmic_error: 0.0072\n",
      "Epoch 40/50\n",
      "51/51 [==============================] - 1s 23ms/step - loss: 0.0502 - mean_squared_logarithmic_error: 0.0501 - val_loss: 0.0074 - val_mean_squared_logarithmic_error: 0.0075\n",
      "Epoch 41/50\n",
      "51/51 [==============================] - 1s 22ms/step - loss: 0.0586 - mean_squared_logarithmic_error: 0.0584 - val_loss: 0.0108 - val_mean_squared_logarithmic_error: 0.0109\n",
      "Epoch 42/50\n",
      "51/51 [==============================] - 1s 22ms/step - loss: 0.0533 - mean_squared_logarithmic_error: 0.0532 - val_loss: 0.0093 - val_mean_squared_logarithmic_error: 0.0095\n",
      "Epoch 43/50\n",
      "51/51 [==============================] - 1s 22ms/step - loss: 0.0568 - mean_squared_logarithmic_error: 0.0567 - val_loss: 0.0080 - val_mean_squared_logarithmic_error: 0.0081\n",
      "Epoch 44/50\n",
      "51/51 [==============================] - 1s 22ms/step - loss: 0.0550 - mean_squared_logarithmic_error: 0.0549 - val_loss: 0.0061 - val_mean_squared_logarithmic_error: 0.0062\n",
      "Epoch 45/50\n",
      "51/51 [==============================] - 1s 22ms/step - loss: 0.0588 - mean_squared_logarithmic_error: 0.0585 - val_loss: 0.0067 - val_mean_squared_logarithmic_error: 0.0068\n",
      "Epoch 46/50\n",
      "51/51 [==============================] - 1s 23ms/step - loss: 0.0574 - mean_squared_logarithmic_error: 0.0576 - val_loss: 0.0071 - val_mean_squared_logarithmic_error: 0.0072\n",
      "Epoch 47/50\n",
      "51/51 [==============================] - 1s 23ms/step - loss: 0.0552 - mean_squared_logarithmic_error: 0.0554 - val_loss: 0.0084 - val_mean_squared_logarithmic_error: 0.0085\n",
      "Epoch 48/50\n",
      "51/51 [==============================] - 1s 22ms/step - loss: 0.0591 - mean_squared_logarithmic_error: 0.0593 - val_loss: 0.0084 - val_mean_squared_logarithmic_error: 0.0085\n",
      "Epoch 49/50\n",
      "51/51 [==============================] - 1s 23ms/step - loss: 0.0560 - mean_squared_logarithmic_error: 0.0560 - val_loss: 0.0044 - val_mean_squared_logarithmic_error: 0.0044\n",
      "Epoch 50/50\n",
      "51/51 [==============================] - 1s 23ms/step - loss: 0.0524 - mean_squared_logarithmic_error: 0.0525 - val_loss: 0.0088 - val_mean_squared_logarithmic_error: 0.0089\n"
     ]
    }
   ],
   "source": [
    "historyHB = hbModel.fit(xTrain, yTrain, epochs=50, batch_size=32,validation_data=(xTest, yTest))\n"
   ]
  },
  {
   "cell_type": "code",
   "execution_count": 29,
   "id": "32f9c110",
   "metadata": {},
   "outputs": [],
   "source": [
    "predictionsLSTM = hbModel.predict(xTest)\n",
    "predictionsLSTM = scaler.inverse_transform(predictionsLSTM)\n",
    "y_test_scaled = scaler.inverse_transform(yTest.reshape(-1, 1))"
   ]
  },
  {
   "cell_type": "code",
   "execution_count": 30,
   "id": "a2cff6c9",
   "metadata": {},
   "outputs": [
    {
     "data": {
      "text/plain": [
       "array([[5739.1074],\n",
       "       [5718.9053],\n",
       "       [5721.597 ],\n",
       "       [5648.6836],\n",
       "       [5651.686 ],\n",
       "       [5700.188 ],\n",
       "       [5658.316 ],\n",
       "       [5618.5884],\n",
       "       [5568.866 ],\n",
       "       [5561.555 ],\n",
       "       [5559.6294],\n",
       "       [5581.0186],\n",
       "       [5647.6978],\n",
       "       [5714.4873],\n",
       "       [5732.401 ],\n",
       "       [5735.6636],\n",
       "       [5914.622 ],\n",
       "       [5997.2266],\n",
       "       [6061.3833],\n",
       "       [6032.506 ],\n",
       "       [6015.3228],\n",
       "       [6090.7866],\n",
       "       [6051.832 ],\n",
       "       [6066.202 ],\n",
       "       [6029.341 ],\n",
       "       [6041.6807],\n",
       "       [6029.117 ],\n",
       "       [6103.2407],\n",
       "       [6072.2026],\n",
       "       [6051.802 ],\n",
       "       [6054.9224],\n",
       "       [5981.0034],\n",
       "       [6067.933 ],\n",
       "       [6129.123 ],\n",
       "       [6151.2896],\n",
       "       [6199.26  ],\n",
       "       [6203.076 ],\n",
       "       [6205.9663],\n",
       "       [6210.2505],\n",
       "       [6238.827 ],\n",
       "       [6195.939 ],\n",
       "       [6184.735 ],\n",
       "       [6169.724 ],\n",
       "       [6216.8374],\n",
       "       [6200.1245],\n",
       "       [6183.188 ],\n",
       "       [6092.914 ],\n",
       "       [6123.5933],\n",
       "       [6156.782 ],\n",
       "       [6161.908 ],\n",
       "       [6243.6455],\n",
       "       [6204.1553],\n",
       "       [6128.4287],\n",
       "       [6219.0415],\n",
       "       [6249.6084],\n",
       "       [6429.883 ],\n",
       "       [6443.621 ],\n",
       "       [6457.9697],\n",
       "       [6396.772 ],\n",
       "       [6362.4756],\n",
       "       [6356.2144],\n",
       "       [6402.963 ],\n",
       "       [6347.4106],\n",
       "       [6337.7383],\n",
       "       [6331.4546],\n",
       "       [6354.535 ],\n",
       "       [6333.256 ],\n",
       "       [6317.612 ],\n",
       "       [6271.658 ],\n",
       "       [6285.769 ],\n",
       "       [6213.56  ],\n",
       "       [6182.3945],\n",
       "       [6086.2866],\n",
       "       [6136.759 ],\n",
       "       [6175.6084],\n",
       "       [6167.9297],\n",
       "       [6164.8315],\n",
       "       [6152.7617],\n",
       "       [6180.3784],\n",
       "       [6185.9785],\n",
       "       [6180.0405],\n",
       "       [6183.485 ],\n",
       "       [6232.82  ],\n",
       "       [6366.7197],\n",
       "       [6358.1494],\n",
       "       [6328.3784],\n",
       "       [6252.548 ],\n",
       "       [6259.5645],\n",
       "       [6249.4146],\n",
       "       [6261.332 ],\n",
       "       [6288.194 ],\n",
       "       [6282.041 ],\n",
       "       [6145.0845],\n",
       "       [6234.2856],\n",
       "       [6251.505 ],\n",
       "       [6302.578 ],\n",
       "       [6281.128 ],\n",
       "       [6265.323 ],\n",
       "       [6337.737 ],\n",
       "       [6344.649 ],\n",
       "       [6341.1807],\n",
       "       [6350.4814],\n",
       "       [6370.215 ],\n",
       "       [6360.0957],\n",
       "       [6404.9062],\n",
       "       [6369.7725],\n",
       "       [6385.5   ],\n",
       "       [6326.3374],\n",
       "       [6343.094 ],\n",
       "       [6319.939 ],\n",
       "       [6332.4946],\n",
       "       [6300.574 ],\n",
       "       [6356.202 ],\n",
       "       [6350.178 ],\n",
       "       [6380.562 ],\n",
       "       [6331.054 ],\n",
       "       [6352.5635],\n",
       "       [6422.3364],\n",
       "       [6470.683 ],\n",
       "       [6516.0894],\n",
       "       [6492.682 ],\n",
       "       [6472.0684],\n",
       "       [6473.9   ],\n",
       "       [6514.477 ],\n",
       "       [6549.327 ],\n",
       "       [6578.2837],\n",
       "       [6561.036 ],\n",
       "       [6445.6763],\n",
       "       [6481.1934],\n",
       "       [6514.278 ],\n",
       "       [6513.5195],\n",
       "       [6534.6055],\n",
       "       [6518.218 ],\n",
       "       [6535.0537],\n",
       "       [6532.077 ],\n",
       "       [6539.458 ],\n",
       "       [6499.9526],\n",
       "       [6600.097 ],\n",
       "       [6624.791 ],\n",
       "       [6670.001 ],\n",
       "       [6662.104 ],\n",
       "       [6514.674 ],\n",
       "       [6571.497 ],\n",
       "       [6531.594 ],\n",
       "       [6603.2734],\n",
       "       [6589.123 ],\n",
       "       [6592.1157],\n",
       "       [6520.6123],\n",
       "       [6584.206 ],\n",
       "       [6577.767 ],\n",
       "       [6607.4307],\n",
       "       [6586.8237],\n",
       "       [6586.026 ],\n",
       "       [6579.6343],\n",
       "       [6582.5728],\n",
       "       [6631.577 ],\n",
       "       [6651.8765],\n",
       "       [6613.7007],\n",
       "       [6620.4033],\n",
       "       [6626.547 ],\n",
       "       [6641.6675],\n",
       "       [6628.697 ],\n",
       "       [6636.0063],\n",
       "       [6674.87  ],\n",
       "       [6683.095 ],\n",
       "       [6705.196 ],\n",
       "       [6714.408 ],\n",
       "       [6686.8765],\n",
       "       [6572.547 ],\n",
       "       [6618.9707],\n",
       "       [6638.336 ],\n",
       "       [6623.9893],\n",
       "       [6656.29  ],\n",
       "       [6676.1357],\n",
       "       [6620.5557],\n",
       "       [6637.3345],\n",
       "       [6592.4956],\n",
       "       [6671.491 ],\n",
       "       [6663.383 ],\n",
       "       [6700.805 ],\n",
       "       [6642.5586],\n",
       "       [6690.5107],\n",
       "       [6582.9297],\n",
       "       [6669.9004],\n",
       "       [6665.1553],\n",
       "       [6666.0767],\n",
       "       [6636.94  ],\n",
       "       [6571.324 ],\n",
       "       [6572.4155],\n",
       "       [6432.6587],\n",
       "       [6473.654 ],\n",
       "       [6568.966 ],\n",
       "       [6537.387 ],\n",
       "       [6590.649 ],\n",
       "       [6584.3706],\n",
       "       [6560.175 ],\n",
       "       [6578.778 ],\n",
       "       [6629.654 ],\n",
       "       [6587.282 ],\n",
       "       [6632.5337],\n",
       "       [6649.484 ],\n",
       "       [6664.4526],\n",
       "       [6660.6763],\n",
       "       [6663.3286],\n",
       "       [6671.2573],\n",
       "       [6695.627 ],\n",
       "       [6745.0186],\n",
       "       [6718.5996],\n",
       "       [6743.271 ],\n",
       "       [6685.3545],\n",
       "       [6713.802 ],\n",
       "       [6700.926 ],\n",
       "       [6607.231 ],\n",
       "       [6639.4697],\n",
       "       [6654.3325],\n",
       "       [6668.2935],\n",
       "       [6688.3975],\n",
       "       [6665.1025],\n",
       "       [6686.932 ],\n",
       "       [6660.3516],\n",
       "       [6688.709 ],\n",
       "       [6698.294 ],\n",
       "       [6675.7734],\n",
       "       [6719.863 ],\n",
       "       [6683.396 ],\n",
       "       [6640.2295],\n",
       "       [6581.845 ],\n",
       "       [6590.1494],\n",
       "       [6622.6807],\n",
       "       [6590.968 ],\n",
       "       [6578.5938],\n",
       "       [6588.3438],\n",
       "       [6532.967 ],\n",
       "       [6486.213 ],\n",
       "       [6554.1045],\n",
       "       [6636.2495],\n",
       "       [6626.7437],\n",
       "       [6604.989 ],\n",
       "       [6616.0806],\n",
       "       [6585.011 ],\n",
       "       [6655.6157],\n",
       "       [6631.7363],\n",
       "       [6583.712 ],\n",
       "       [6572.9995],\n",
       "       [6629.647 ],\n",
       "       [6556.677 ],\n",
       "       [6632.4004],\n",
       "       [6641.222 ],\n",
       "       [6685.595 ],\n",
       "       [6668.119 ],\n",
       "       [6679.7603],\n",
       "       [6735.42  ],\n",
       "       [6754.183 ],\n",
       "       [6727.5034],\n",
       "       [6741.67  ],\n",
       "       [6745.279 ],\n",
       "       [6717.086 ],\n",
       "       [6731.974 ],\n",
       "       [6746.5464],\n",
       "       [6792.827 ],\n",
       "       [6768.639 ],\n",
       "       [6768.084 ],\n",
       "       [6757.5737],\n",
       "       [6801.9937],\n",
       "       [6787.108 ],\n",
       "       [6766.6675],\n",
       "       [6794.7646],\n",
       "       [6811.9863],\n",
       "       [6808.0503],\n",
       "       [6787.1   ],\n",
       "       [6843.1694],\n",
       "       [6874.091 ],\n",
       "       [6842.4277],\n",
       "       [6849.0312],\n",
       "       [6827.663 ],\n",
       "       [6800.4697],\n",
       "       [6772.974 ],\n",
       "       [6747.0415],\n",
       "       [6777.2905],\n",
       "       [6783.871 ],\n",
       "       [6799.794 ],\n",
       "       [6818.0693],\n",
       "       [6586.499 ],\n",
       "       [6664.483 ],\n",
       "       [6610.4966],\n",
       "       [6712.0225],\n",
       "       [6667.8115],\n",
       "       [6666.515 ],\n",
       "       [6761.3325],\n",
       "       [6842.239 ],\n",
       "       [6834.1807],\n",
       "       [6822.8677],\n",
       "       [6799.6367],\n",
       "       [6749.9204],\n",
       "       [6743.0464],\n",
       "       [6701.585 ],\n",
       "       [6783.7627],\n",
       "       [6784.338 ],\n",
       "       [6722.851 ],\n",
       "       [6812.875 ],\n",
       "       [6840.7725],\n",
       "       [6865.4775],\n",
       "       [6862.635 ],\n",
       "       [6903.126 ],\n",
       "       [6885.091 ],\n",
       "       [6872.3467],\n",
       "       [6968.1284],\n",
       "       [6968.4937],\n",
       "       [6919.343 ],\n",
       "       [6951.1406],\n",
       "       [6916.738 ],\n",
       "       [6956.413 ],\n",
       "       [6998.6016],\n",
       "       [7004.514 ],\n",
       "       [6988.72  ],\n",
       "       [7043.473 ],\n",
       "       [7000.805 ],\n",
       "       [7026.779 ],\n",
       "       [7019.8555],\n",
       "       [6950.74  ],\n",
       "       [6797.273 ],\n",
       "       [6875.671 ],\n",
       "       [6943.302 ],\n",
       "       [7002.8125],\n",
       "       [6928.887 ],\n",
       "       [6936.266 ],\n",
       "       [6989.526 ],\n",
       "       [7020.492 ],\n",
       "       [6976.2114],\n",
       "       [6971.916 ],\n",
       "       [7016.003 ],\n",
       "       [7006.304 ],\n",
       "       [7066.249 ],\n",
       "       [7080.0195],\n",
       "       [7072.782 ],\n",
       "       [6975.0586],\n",
       "       [7046.4307],\n",
       "       [7032.66  ],\n",
       "       [6983.8506],\n",
       "       [6970.6274],\n",
       "       [6948.3403],\n",
       "       [6958.237 ],\n",
       "       [6959.661 ],\n",
       "       [6716.1963],\n",
       "       [6977.7563],\n",
       "       [6921.995 ],\n",
       "       [6827.9326],\n",
       "       [6917.834 ],\n",
       "       [6747.293 ],\n",
       "       [6545.032 ],\n",
       "       [6537.858 ],\n",
       "       [6540.3516],\n",
       "       [6740.191 ],\n",
       "       [6640.199 ],\n",
       "       [6700.2153],\n",
       "       [6725.451 ],\n",
       "       [6707.8135],\n",
       "       [6807.6978],\n",
       "       [6875.58  ],\n",
       "       [6886.813 ],\n",
       "       [6916.472 ],\n",
       "       [6940.7134],\n",
       "       [6927.393 ],\n",
       "       [6934.614 ],\n",
       "       [6946.4766],\n",
       "       [6938.1567],\n",
       "       [6988.748 ],\n",
       "       [7015.9463]], dtype=float32)"
      ]
     },
     "execution_count": 30,
     "metadata": {},
     "output_type": "execute_result"
    }
   ],
   "source": [
    "predictionsLSTM"
   ]
  },
  {
   "cell_type": "code",
   "execution_count": 31,
   "id": "5c5b264c",
   "metadata": {
    "scrolled": true
   },
   "outputs": [
    {
     "data": {
      "text/plain": [
       "<matplotlib.legend.Legend at 0x1ceb8f0e580>"
      ]
     },
     "execution_count": 31,
     "metadata": {},
     "output_type": "execute_result"
    },
    {
     "data": {
      "image/png": "[encoded data removed]",
      "text/plain": [
       "<Figure size 576x288 with 1 Axes>"
      ]
     },
     "metadata": {},
     "output_type": "display_data"
    }
   ],
   "source": [
    "fig, ax = plt.subplots(figsize=(8,4))\n",
    "ax.plot(y_test_scaled, color='red', label='Original price')\n",
    "plt.plot(predictionsLSTM, color='cyan', label='Predicted- HyperBand')\n",
    "plt.legend()"
   ]
  },
  {
   "cell_type": "code",
   "execution_count": 41,
   "id": "7d123391",
   "metadata": {},
   "outputs": [],
   "source": [
    "dtf = pd.DataFrame(y_test_scaled, columns=['Original'])\n",
    "dtf['HyperBand'] =  predictionsLSTM"
   ]
  },
  {
   "cell_type": "markdown",
   "id": "bec650ea",
   "metadata": {},
   "source": [
    "#### Random Search"
   ]
  },
  {
   "cell_type": "code",
   "execution_count": 42,
   "id": "11450b2d",
   "metadata": {},
   "outputs": [
    {
     "name": "stdout",
     "output_type": "stream",
     "text": [
      "INFO:tensorflow:Reloading Oracle from existing project randomSearch\\AI\\oracle.json\n"
     ]
    },
    {
     "name": "stderr",
     "output_type": "stream",
     "text": [
      "2022-06-21 11:18:15,407 P[23088] [MainThread 23488] Reloading Oracle from existing project randomSearch\\AI\\oracle.json\n"
     ]
    },
    {
     "name": "stdout",
     "output_type": "stream",
     "text": [
      "INFO:tensorflow:Reloading Tuner from randomSearch\\AI\\tuner0.json\n"
     ]
    },
    {
     "name": "stderr",
     "output_type": "stream",
     "text": [
      "2022-06-21 11:18:15,570 P[23088] [MainThread 23488] Reloading Tuner from randomSearch\\AI\\tuner0.json\n"
     ]
    }
   ],
   "source": [
    "randomModel = LSTMHyperModel()\n",
    "\n",
    "randomSearchTuner = RandomSearch(\n",
    "    randomModel,\n",
    "    objective='val_mean_squared_logarithmic_error',\n",
    "    max_trials=3,\n",
    "    executions_per_trial=3,\n",
    "    directory='randomSearch',\n",
    "    project_name='AI')\n",
    "\n"
   ]
  },
  {
   "cell_type": "code",
   "execution_count": 43,
   "id": "55b1c77d",
   "metadata": {
    "scrolled": true
   },
   "outputs": [
    {
     "name": "stdout",
     "output_type": "stream",
     "text": [
      "INFO:tensorflow:Oracle triggered exit\n"
     ]
    },
    {
     "name": "stderr",
     "output_type": "stream",
     "text": [
      "2022-06-21 11:18:17,516 P[23088] [MainThread 23488] Oracle triggered exit\n"
     ]
    }
   ],
   "source": [
    "randomSearchTuner.search(xTrain, yTrain, epochs=25, validation_split=0.1, callbacks=callbacks,validation_data=(xTest, yTest))\n"
   ]
  },
  {
   "cell_type": "markdown",
   "id": "0e608c32",
   "metadata": {},
   "source": [
    "Use Tensor Board if you need a visualization"
   ]
  },
  {
   "cell_type": "code",
   "execution_count": 35,
   "id": "5ed52e71",
   "metadata": {},
   "outputs": [
    {
     "name": "stdout",
     "output_type": "stream",
     "text": [
      "The tensorboard extension is already loaded. To reload it, use:\n",
      "  %reload_ext tensorboard\n"
     ]
    },
    {
     "data": {
      "text/plain": [
       "Reusing TensorBoard on port 6006 (pid 33720), started 2 days, 15:07:10 ago. (Use '!kill 33720' to kill it.)"
      ]
     },
     "metadata": {},
     "output_type": "display_data"
    },
    {
     "data": {
      "text/html": [
       "\n",
       "      <iframe id=\"tensorboard-frame-1f8ac76461227398\" width=\"100%\" height=\"800\" frameborder=\"0\">\n",
       "      </iframe>\n",
       "      <script>\n",
       "        (function() {\n",
       "          const frame = document.getElementById(\"tensorboard-frame-1f8ac76461227398\");\n",
       "          const url = new URL(\"/\", window.location);\n",
       "          const port = 6006;\n",
       "          if (port) {\n",
       "            url.port = port;\n",
       "          }\n",
       "          frame.src = url;\n",
       "        })();\n",
       "      </script>\n",
       "    "
      ],
      "text/plain": [
       "<IPython.core.display.HTML object>"
      ]
     },
     "metadata": {},
     "output_type": "display_data"
    }
   ],
   "source": [
    "#loading tensor board may take some time ,  \n",
    "%load_ext tensorboard\n",
    "\n",
    "%tensorboard --logdir /tmp/tb_logs"
   ]
  },
  {
   "cell_type": "code",
   "execution_count": 44,
   "id": "7ca07a9c",
   "metadata": {},
   "outputs": [
    {
     "name": "stdout",
     "output_type": "stream",
     "text": [
      "Model: \"sequential\"\n",
      "_________________________________________________________________\n",
      " Layer (type)                Output Shape              Param #   \n",
      "=================================================================\n",
      " lstm (LSTM)                 (None, 320)               412160    \n",
      "                                                                 \n",
      " dense (Dense)               (None, 128)               41088     \n",
      "                                                                 \n",
      " dense_1 (Dense)             (None, 448)               57792     \n",
      "                                                                 \n",
      " dense_2 (Dense)             (None, 192)               86208     \n",
      "                                                                 \n",
      " dense_3 (Dense)             (None, 1)                 193       \n",
      "                                                                 \n",
      " dropout (Dropout)           (None, 1)                 0         \n",
      "                                                                 \n",
      "=================================================================\n",
      "Total params: 597,441\n",
      "Trainable params: 597,441\n",
      "Non-trainable params: 0\n",
      "_________________________________________________________________\n"
     ]
    }
   ],
   "source": [
    "bestModelRS = randomSearchTuner.get_best_models()[0]\n",
    "bestModelRS.summary()"
   ]
  },
  {
   "cell_type": "code",
   "execution_count": 45,
   "id": "3108b620",
   "metadata": {},
   "outputs": [
    {
     "data": {
      "text/plain": [
       "{'units': 320,\n",
       " 'units1': 128,\n",
       " 'units2': 448,\n",
       " 'units3': 192,\n",
       " 'dropout': 0.30000000000000004,\n",
       " 'learning_rate': 0.01}"
      ]
     },
     "execution_count": 45,
     "metadata": {},
     "output_type": "execute_result"
    }
   ],
   "source": [
    "besthpsRS = randomSearchTuner.get_best_hyperparameters()[0]\n",
    "besthpsRS.values"
   ]
  },
  {
   "cell_type": "code",
   "execution_count": 46,
   "id": "f9251433",
   "metadata": {},
   "outputs": [
    {
     "name": "stdout",
     "output_type": "stream",
     "text": [
      "Epoch 1/50\n",
      "51/51 [==============================] - 7s 114ms/step - loss: 0.0865 - mean_squared_logarithmic_error: 0.0865 - val_loss: 0.0168 - val_mean_squared_logarithmic_error: 0.0171\n",
      "Epoch 2/50\n",
      "51/51 [==============================] - 6s 111ms/step - loss: 0.0780 - mean_squared_logarithmic_error: 0.0779 - val_loss: 0.0172 - val_mean_squared_logarithmic_error: 0.0175\n",
      "Epoch 3/50\n",
      "51/51 [==============================] - 6s 110ms/step - loss: 0.0801 - mean_squared_logarithmic_error: 0.0801 - val_loss: 0.0177 - val_mean_squared_logarithmic_error: 0.0179\n",
      "Epoch 4/50\n",
      "51/51 [==============================] - 6s 110ms/step - loss: 0.0768 - mean_squared_logarithmic_error: 0.0766 - val_loss: 0.0146 - val_mean_squared_logarithmic_error: 0.0148\n",
      "Epoch 5/50\n",
      "51/51 [==============================] - 6s 112ms/step - loss: 0.0821 - mean_squared_logarithmic_error: 0.0822 - val_loss: 0.0181 - val_mean_squared_logarithmic_error: 0.0185\n",
      "Epoch 6/50\n",
      "51/51 [==============================] - 6s 110ms/step - loss: 0.0804 - mean_squared_logarithmic_error: 0.0802 - val_loss: 0.0188 - val_mean_squared_logarithmic_error: 0.0191\n",
      "Epoch 7/50\n",
      "51/51 [==============================] - 6s 111ms/step - loss: 0.0765 - mean_squared_logarithmic_error: 0.0769 - val_loss: 0.0157 - val_mean_squared_logarithmic_error: 0.0160\n",
      "Epoch 8/50\n",
      "51/51 [==============================] - 6s 114ms/step - loss: 0.0844 - mean_squared_logarithmic_error: 0.0845 - val_loss: 0.0184 - val_mean_squared_logarithmic_error: 0.0187\n",
      "Epoch 9/50\n",
      "51/51 [==============================] - 6s 115ms/step - loss: 0.0807 - mean_squared_logarithmic_error: 0.0803 - val_loss: 0.0115 - val_mean_squared_logarithmic_error: 0.0117\n",
      "Epoch 10/50\n",
      "51/51 [==============================] - 6s 112ms/step - loss: 0.0815 - mean_squared_logarithmic_error: 0.0817 - val_loss: 0.0186 - val_mean_squared_logarithmic_error: 0.0188\n",
      "Epoch 11/50\n",
      "51/51 [==============================] - 6s 112ms/step - loss: 0.0887 - mean_squared_logarithmic_error: 0.0888 - val_loss: 0.0167 - val_mean_squared_logarithmic_error: 0.0169\n",
      "Epoch 12/50\n",
      "51/51 [==============================] - 6s 109ms/step - loss: 0.0841 - mean_squared_logarithmic_error: 0.0841 - val_loss: 0.0149 - val_mean_squared_logarithmic_error: 0.0152\n",
      "Epoch 13/50\n",
      "51/51 [==============================] - 6s 110ms/step - loss: 0.0841 - mean_squared_logarithmic_error: 0.0837 - val_loss: 0.0131 - val_mean_squared_logarithmic_error: 0.0133\n",
      "Epoch 14/50\n",
      "51/51 [==============================] - 6s 109ms/step - loss: 0.0801 - mean_squared_logarithmic_error: 0.0804 - val_loss: 0.0162 - val_mean_squared_logarithmic_error: 0.0164\n",
      "Epoch 15/50\n",
      "51/51 [==============================] - 6s 109ms/step - loss: 0.0785 - mean_squared_logarithmic_error: 0.0784 - val_loss: 0.0185 - val_mean_squared_logarithmic_error: 0.0187\n",
      "Epoch 16/50\n",
      "51/51 [==============================] - 6s 111ms/step - loss: 0.0759 - mean_squared_logarithmic_error: 0.0759 - val_loss: 0.0178 - val_mean_squared_logarithmic_error: 0.0181\n",
      "Epoch 17/50\n",
      "51/51 [==============================] - 6s 110ms/step - loss: 0.0766 - mean_squared_logarithmic_error: 0.0762 - val_loss: 0.0172 - val_mean_squared_logarithmic_error: 0.0174\n",
      "Epoch 18/50\n",
      "51/51 [==============================] - 6s 109ms/step - loss: 0.0796 - mean_squared_logarithmic_error: 0.0793 - val_loss: 0.0137 - val_mean_squared_logarithmic_error: 0.0139\n",
      "Epoch 19/50\n",
      "51/51 [==============================] - 6s 113ms/step - loss: 0.0817 - mean_squared_logarithmic_error: 0.0814 - val_loss: 0.0179 - val_mean_squared_logarithmic_error: 0.0181\n",
      "Epoch 20/50\n",
      "51/51 [==============================] - 6s 113ms/step - loss: 0.0750 - mean_squared_logarithmic_error: 0.0751 - val_loss: 0.0168 - val_mean_squared_logarithmic_error: 0.0170\n",
      "Epoch 21/50\n",
      "51/51 [==============================] - 6s 111ms/step - loss: 0.0777 - mean_squared_logarithmic_error: 0.0781 - val_loss: 0.0136 - val_mean_squared_logarithmic_error: 0.0138\n",
      "Epoch 22/50\n",
      "51/51 [==============================] - 6s 111ms/step - loss: 0.0788 - mean_squared_logarithmic_error: 0.0793 - val_loss: 0.0198 - val_mean_squared_logarithmic_error: 0.0201\n",
      "Epoch 23/50\n",
      "51/51 [==============================] - 6s 110ms/step - loss: 0.0805 - mean_squared_logarithmic_error: 0.0802 - val_loss: 0.0176 - val_mean_squared_logarithmic_error: 0.0178\n",
      "Epoch 24/50\n",
      "51/51 [==============================] - 6s 112ms/step - loss: 0.0780 - mean_squared_logarithmic_error: 0.0777 - val_loss: 0.0150 - val_mean_squared_logarithmic_error: 0.0152\n",
      "Epoch 25/50\n",
      "51/51 [==============================] - 6s 110ms/step - loss: 0.0793 - mean_squared_logarithmic_error: 0.0793 - val_loss: 0.0158 - val_mean_squared_logarithmic_error: 0.0160\n",
      "Epoch 26/50\n",
      "51/51 [==============================] - 6s 110ms/step - loss: 0.0825 - mean_squared_logarithmic_error: 0.0826 - val_loss: 0.0184 - val_mean_squared_logarithmic_error: 0.0187\n",
      "Epoch 27/50\n",
      "51/51 [==============================] - 6s 113ms/step - loss: 0.0736 - mean_squared_logarithmic_error: 0.0738 - val_loss: 0.0197 - val_mean_squared_logarithmic_error: 0.0199\n",
      "Epoch 28/50\n",
      "51/51 [==============================] - 6s 111ms/step - loss: 0.0841 - mean_squared_logarithmic_error: 0.0840 - val_loss: 0.0153 - val_mean_squared_logarithmic_error: 0.0155\n",
      "Epoch 29/50\n",
      "51/51 [==============================] - 6s 111ms/step - loss: 0.0833 - mean_squared_logarithmic_error: 0.0834 - val_loss: 0.0166 - val_mean_squared_logarithmic_error: 0.0168\n",
      "Epoch 30/50\n",
      "51/51 [==============================] - 6s 115ms/step - loss: 0.0812 - mean_squared_logarithmic_error: 0.0811 - val_loss: 0.0159 - val_mean_squared_logarithmic_error: 0.0161\n",
      "Epoch 31/50\n",
      "51/51 [==============================] - 6s 111ms/step - loss: 0.0803 - mean_squared_logarithmic_error: 0.0806 - val_loss: 0.0150 - val_mean_squared_logarithmic_error: 0.0152\n",
      "Epoch 32/50\n",
      "51/51 [==============================] - 6s 111ms/step - loss: 0.0739 - mean_squared_logarithmic_error: 0.0739 - val_loss: 0.0190 - val_mean_squared_logarithmic_error: 0.0192\n",
      "Epoch 33/50\n",
      "51/51 [==============================] - 6s 113ms/step - loss: 0.0797 - mean_squared_logarithmic_error: 0.0798 - val_loss: 0.0200 - val_mean_squared_logarithmic_error: 0.0202\n",
      "Epoch 34/50\n",
      "51/51 [==============================] - 6s 110ms/step - loss: 0.0809 - mean_squared_logarithmic_error: 0.0809 - val_loss: 0.0181 - val_mean_squared_logarithmic_error: 0.0183\n",
      "Epoch 35/50\n",
      "51/51 [==============================] - 6s 110ms/step - loss: 0.0809 - mean_squared_logarithmic_error: 0.0804 - val_loss: 0.0157 - val_mean_squared_logarithmic_error: 0.0159\n",
      "Epoch 36/50\n",
      "51/51 [==============================] - 6s 112ms/step - loss: 0.0796 - mean_squared_logarithmic_error: 0.0793 - val_loss: 0.0181 - val_mean_squared_logarithmic_error: 0.0183\n",
      "Epoch 37/50\n",
      "51/51 [==============================] - 6s 109ms/step - loss: 0.0859 - mean_squared_logarithmic_error: 0.0855 - val_loss: 0.0211 - val_mean_squared_logarithmic_error: 0.0214\n",
      "Epoch 38/50\n",
      "51/51 [==============================] - 6s 111ms/step - loss: 0.0774 - mean_squared_logarithmic_error: 0.0777 - val_loss: 0.0171 - val_mean_squared_logarithmic_error: 0.0173\n",
      "Epoch 39/50\n",
      "51/51 [==============================] - 6s 112ms/step - loss: 0.0827 - mean_squared_logarithmic_error: 0.0829 - val_loss: 0.0165 - val_mean_squared_logarithmic_error: 0.0167\n",
      "Epoch 40/50\n",
      "51/51 [==============================] - 6s 111ms/step - loss: 0.0813 - mean_squared_logarithmic_error: 0.0810 - val_loss: 0.0182 - val_mean_squared_logarithmic_error: 0.0185\n",
      "Epoch 41/50\n",
      "51/51 [==============================] - 6s 115ms/step - loss: 0.0804 - mean_squared_logarithmic_error: 0.0805 - val_loss: 0.0133 - val_mean_squared_logarithmic_error: 0.0135\n",
      "Epoch 42/50\n",
      "51/51 [==============================] - 6s 110ms/step - loss: 0.0830 - mean_squared_logarithmic_error: 0.0831 - val_loss: 0.0149 - val_mean_squared_logarithmic_error: 0.0151\n",
      "Epoch 43/50\n",
      "51/51 [==============================] - 6s 109ms/step - loss: 0.0811 - mean_squared_logarithmic_error: 0.0808 - val_loss: 0.0159 - val_mean_squared_logarithmic_error: 0.0161\n",
      "Epoch 44/50\n",
      "51/51 [==============================] - 6s 112ms/step - loss: 0.0785 - mean_squared_logarithmic_error: 0.0785 - val_loss: 0.0169 - val_mean_squared_logarithmic_error: 0.0172\n"
     ]
    },
    {
     "name": "stdout",
     "output_type": "stream",
     "text": [
      "Epoch 45/50\n",
      "51/51 [==============================] - 6s 109ms/step - loss: 0.0771 - mean_squared_logarithmic_error: 0.0767 - val_loss: 0.0173 - val_mean_squared_logarithmic_error: 0.0175\n",
      "Epoch 46/50\n",
      "51/51 [==============================] - 6s 109ms/step - loss: 0.0834 - mean_squared_logarithmic_error: 0.0835 - val_loss: 0.0148 - val_mean_squared_logarithmic_error: 0.0150\n",
      "Epoch 47/50\n",
      "51/51 [==============================] - 6s 111ms/step - loss: 0.0838 - mean_squared_logarithmic_error: 0.0838 - val_loss: 0.0192 - val_mean_squared_logarithmic_error: 0.0195\n",
      "Epoch 48/50\n",
      "51/51 [==============================] - 6s 110ms/step - loss: 0.0848 - mean_squared_logarithmic_error: 0.0847 - val_loss: 0.0169 - val_mean_squared_logarithmic_error: 0.0171\n",
      "Epoch 49/50\n",
      "51/51 [==============================] - 6s 110ms/step - loss: 0.0800 - mean_squared_logarithmic_error: 0.0800 - val_loss: 0.0155 - val_mean_squared_logarithmic_error: 0.0157\n",
      "Epoch 50/50\n",
      "51/51 [==============================] - 6s 112ms/step - loss: 0.0787 - mean_squared_logarithmic_error: 0.0783 - val_loss: 0.0146 - val_mean_squared_logarithmic_error: 0.0147\n"
     ]
    }
   ],
   "source": [
    "historyRS = bestModelRS.fit(xTrain, yTrain, epochs=50, batch_size=32,validation_data=(xTest, yTest))\n"
   ]
  },
  {
   "cell_type": "code",
   "execution_count": 50,
   "id": "0a41048a",
   "metadata": {},
   "outputs": [],
   "source": [
    "predictionsLSTMRS = bestModelRS.predict(xTest)\n",
    "predictionsLSTMRS = scaler.inverse_transform(predictionsLSTMRS)\n",
    "y_test_scaled = scaler.inverse_transform(yTest.reshape(-1, 1))"
   ]
  },
  {
   "cell_type": "markdown",
   "id": "ad5dc160",
   "metadata": {},
   "source": [
    "Lets plot the results"
   ]
  },
  {
   "cell_type": "code",
   "execution_count": 106,
   "id": "7568287c",
   "metadata": {},
   "outputs": [
    {
     "data": {
      "text/plain": [
       "<matplotlib.legend.Legend at 0x24d3303fc10>"
      ]
     },
     "execution_count": 106,
     "metadata": {},
     "output_type": "execute_result"
    },
    {
     "data": {
      "image/png": "[encoded data removed]",
      "text/plain": [
       "<Figure size 576x288 with 1 Axes>"
      ]
     },
     "metadata": {},
     "output_type": "display_data"
    }
   ],
   "source": [
    "fig, ax = plt.subplots(figsize=(8,4))\n",
    "ax.plot(y_test_scaled, color='red', label='Original price')\n",
    "plt.plot(predictionsLSTMRS, color='green', label='Predicted price')\n",
    "plt.legend()"
   ]
  },
  {
   "cell_type": "code",
   "execution_count": 53,
   "id": "05e0f26e",
   "metadata": {
    "scrolled": true
   },
   "outputs": [
    {
     "data": {
      "text/html": [
       "<div>\n",
       "<style scoped>\n",
       "    .dataframe tbody tr th:only-of-type {\n",
       "        vertical-align: middle;\n",
       "    }\n",
       "\n",
       "    .dataframe tbody tr th {\n",
       "        vertical-align: top;\n",
       "    }\n",
       "\n",
       "    .dataframe thead th {\n",
       "        text-align: right;\n",
       "    }\n",
       "</style>\n",
       "<table border=\"1\" class=\"dataframe\">\n",
       "  <thead>\n",
       "    <tr style=\"text-align: right;\">\n",
       "      <th></th>\n",
       "      <th>Original</th>\n",
       "      <th>HyperBand</th>\n",
       "      <th>Random Search</th>\n",
       "    </tr>\n",
       "  </thead>\n",
       "  <tbody>\n",
       "    <tr>\n",
       "      <th>0</th>\n",
       "      <td>5884.65</td>\n",
       "      <td>5677.741211</td>\n",
       "      <td>5600.478516</td>\n",
       "    </tr>\n",
       "    <tr>\n",
       "      <th>1</th>\n",
       "      <td>5889.22</td>\n",
       "      <td>5653.200684</td>\n",
       "      <td>5577.718262</td>\n",
       "    </tr>\n",
       "    <tr>\n",
       "      <th>2</th>\n",
       "      <td>5776.50</td>\n",
       "      <td>5656.173340</td>\n",
       "      <td>5580.800293</td>\n",
       "    </tr>\n",
       "    <tr>\n",
       "      <th>3</th>\n",
       "      <td>5785.65</td>\n",
       "      <td>5585.351562</td>\n",
       "      <td>5516.075684</td>\n",
       "    </tr>\n",
       "    <tr>\n",
       "      <th>4</th>\n",
       "      <td>5860.28</td>\n",
       "      <td>5587.771484</td>\n",
       "      <td>5520.223145</td>\n",
       "    </tr>\n",
       "  </tbody>\n",
       "</table>\n",
       "</div>"
      ],
      "text/plain": [
       "   Original    HyperBand  Random Search\n",
       "0   5884.65  5677.741211    5600.478516\n",
       "1   5889.22  5653.200684    5577.718262\n",
       "2   5776.50  5656.173340    5580.800293\n",
       "3   5785.65  5585.351562    5516.075684\n",
       "4   5860.28  5587.771484    5520.223145"
      ]
     },
     "execution_count": 53,
     "metadata": {},
     "output_type": "execute_result"
    }
   ],
   "source": [
    "#adding it to dft gor later use\n",
    "dtf['Random Search'] =  predictionsLSTMRS\n",
    "dtf.head()"
   ]
  },
  {
   "cell_type": "code",
   "execution_count": 55,
   "id": "497f594c",
   "metadata": {},
   "outputs": [],
   "source": [
    "randomModelB = LSTMHyperModel()\n",
    "\n",
    "baysianTuner = kt.BayesianOptimization(\n",
    "    randomModelB,\n",
    "    objective='val_mean_squared_logarithmic_error',\n",
    "    max_trials=3, # ( 50 epochs x 3 ) x 3\n",
    "    executions_per_trial=3, # means 50 epochs x 3 \n",
    "    directory='bayesian',\n",
    "    project_name='AI',\n",
    "    num_initial_points=2,\n",
    "    alpha=0.0001,\n",
    "    beta=2.6,\n",
    "    seed=None,)\n",
    "# https://keras.io/api/keras_tuner/tuners/bayesian/"
   ]
  },
  {
   "cell_type": "markdown",
   "id": "e834c7e4",
   "metadata": {},
   "source": [
    "#### Bayesian Search"
   ]
  },
  {
   "cell_type": "markdown",
   "id": "8edfd9fb",
   "metadata": {},
   "source": [
    "This may take long time to complete !!!"
   ]
  },
  {
   "cell_type": "code",
   "execution_count": 57,
   "id": "4ab9be06",
   "metadata": {
    "scrolled": true
   },
   "outputs": [
    {
     "name": "stdout",
     "output_type": "stream",
     "text": [
      "Trial 3 Complete [03h 53m 35s]\n",
      "val_mean_squared_logarithmic_error: 0.17029351415112615\n",
      "\n",
      "Best val_mean_squared_logarithmic_error So Far: 0.17029351415112615\n",
      "Total elapsed time: 04h 41m 42s\n",
      "INFO:tensorflow:Oracle triggered exit\n"
     ]
    },
    {
     "name": "stderr",
     "output_type": "stream",
     "text": [
      "2022-06-19 06:27:06,816 P[36528] [MainThread 38200] Oracle triggered exit\n"
     ]
    }
   ],
   "source": [
    "baysianTuner.search(xTrain, yTrain, epochs=50, validation_split=0.2, callbacks=callbacks,validation_data=(xTest, yTest))\n"
   ]
  },
  {
   "cell_type": "code",
   "execution_count": 58,
   "id": "72ab8a5f",
   "metadata": {},
   "outputs": [],
   "source": [
    "bestModelB = baysianTuner.get_best_models()[0]\n"
   ]
  },
  {
   "cell_type": "code",
   "execution_count": 59,
   "id": "fbeda48b",
   "metadata": {},
   "outputs": [
    {
     "name": "stdout",
     "output_type": "stream",
     "text": [
      "Model: \"sequential\"\n",
      "_________________________________________________________________\n",
      " Layer (type)                Output Shape              Param #   \n",
      "=================================================================\n",
      " lstm (LSTM)                 (None, 512)               1052672   \n",
      "                                                                 \n",
      " dense (Dense)               (None, 96)                49248     \n",
      "                                                                 \n",
      " dense_1 (Dense)             (None, 512)               49664     \n",
      "                                                                 \n",
      " dense_2 (Dense)             (None, 512)               262656    \n",
      "                                                                 \n",
      " dense_3 (Dense)             (None, 1)                 513       \n",
      "                                                                 \n",
      " dropout (Dropout)           (None, 1)                 0         \n",
      "                                                                 \n",
      "=================================================================\n",
      "Total params: 1,414,753\n",
      "Trainable params: 1,414,753\n",
      "Non-trainable params: 0\n",
      "_________________________________________________________________\n"
     ]
    }
   ],
   "source": [
    "bestModelB.summary()"
   ]
  },
  {
   "cell_type": "code",
   "execution_count": 107,
   "id": "a105c587",
   "metadata": {},
   "outputs": [
    {
     "data": {
      "text/plain": [
       "{'units': 512,\n",
       " 'units1': 96,\n",
       " 'units2': 512,\n",
       " 'units3': 512,\n",
       " 'dropout': 0.1,\n",
       " 'learning_rate': 0.01}"
      ]
     },
     "execution_count": 107,
     "metadata": {},
     "output_type": "execute_result"
    }
   ],
   "source": [
    "bestB = baysianTuner.get_best_hyperparameters()[0]\n",
    "bestB.values"
   ]
  },
  {
   "cell_type": "code",
   "execution_count": 61,
   "id": "fb79958a",
   "metadata": {},
   "outputs": [
    {
     "name": "stdout",
     "output_type": "stream",
     "text": [
      "Epoch 1/50\n",
      "51/51 [==============================] - 16s 305ms/step - loss: 0.0315 - mean_squared_logarithmic_error: 0.0312 - val_loss: 0.0018 - val_mean_squared_logarithmic_error: 0.0018\n",
      "Epoch 2/50\n",
      "51/51 [==============================] - 16s 311ms/step - loss: 0.0323 - mean_squared_logarithmic_error: 0.0324 - val_loss: 0.0019 - val_mean_squared_logarithmic_error: 0.0020\n",
      "Epoch 3/50\n",
      "51/51 [==============================] - 16s 314ms/step - loss: 0.0305 - mean_squared_logarithmic_error: 0.0305 - val_loss: 0.0018 - val_mean_squared_logarithmic_error: 0.0018\n",
      "Epoch 4/50\n",
      "51/51 [==============================] - 16s 315ms/step - loss: 0.0262 - mean_squared_logarithmic_error: 0.0263 - val_loss: 0.0014 - val_mean_squared_logarithmic_error: 0.0014\n",
      "Epoch 5/50\n",
      "51/51 [==============================] - 16s 320ms/step - loss: 0.0292 - mean_squared_logarithmic_error: 0.0291 - val_loss: 0.0017 - val_mean_squared_logarithmic_error: 0.0017\n",
      "Epoch 6/50\n",
      "51/51 [==============================] - 16s 321ms/step - loss: 0.0271 - mean_squared_logarithmic_error: 0.0269 - val_loss: 0.0013 - val_mean_squared_logarithmic_error: 0.0014\n",
      "Epoch 7/50\n",
      "51/51 [==============================] - 18s 346ms/step - loss: 0.0294 - mean_squared_logarithmic_error: 0.0294 - val_loss: 0.0032 - val_mean_squared_logarithmic_error: 0.0032\n",
      "Epoch 8/50\n",
      "51/51 [==============================] - 16s 309ms/step - loss: 0.0254 - mean_squared_logarithmic_error: 0.0255 - val_loss: 0.0025 - val_mean_squared_logarithmic_error: 0.0025\n",
      "Epoch 9/50\n",
      "51/51 [==============================] - 16s 322ms/step - loss: 0.0251 - mean_squared_logarithmic_error: 0.0250 - val_loss: 0.0028 - val_mean_squared_logarithmic_error: 0.0029\n",
      "Epoch 10/50\n",
      "51/51 [==============================] - 15s 302ms/step - loss: 0.0272 - mean_squared_logarithmic_error: 0.0277 - val_loss: 0.0018 - val_mean_squared_logarithmic_error: 0.0018\n",
      "Epoch 11/50\n",
      "51/51 [==============================] - 15s 301ms/step - loss: 0.0293 - mean_squared_logarithmic_error: 0.0291 - val_loss: 0.0019 - val_mean_squared_logarithmic_error: 0.0019\n",
      "Epoch 12/50\n",
      "51/51 [==============================] - 15s 299ms/step - loss: 0.0282 - mean_squared_logarithmic_error: 0.0282 - val_loss: 0.0023 - val_mean_squared_logarithmic_error: 0.0024\n",
      "Epoch 13/50\n",
      "51/51 [==============================] - 15s 302ms/step - loss: 0.0263 - mean_squared_logarithmic_error: 0.0261 - val_loss: 0.0019 - val_mean_squared_logarithmic_error: 0.0020\n",
      "Epoch 14/50\n",
      "51/51 [==============================] - 16s 317ms/step - loss: 0.0235 - mean_squared_logarithmic_error: 0.0235 - val_loss: 0.0018 - val_mean_squared_logarithmic_error: 0.0018\n",
      "Epoch 15/50\n",
      "51/51 [==============================] - 16s 306ms/step - loss: 0.0281 - mean_squared_logarithmic_error: 0.0284 - val_loss: 0.0036 - val_mean_squared_logarithmic_error: 0.0037\n",
      "Epoch 16/50\n",
      "51/51 [==============================] - 16s 319ms/step - loss: 0.0298 - mean_squared_logarithmic_error: 0.0301 - val_loss: 3.2020e-04 - val_mean_squared_logarithmic_error: 3.2285e-04\n",
      "Epoch 17/50\n",
      "51/51 [==============================] - 17s 328ms/step - loss: 0.0265 - mean_squared_logarithmic_error: 0.0264 - val_loss: 0.0030 - val_mean_squared_logarithmic_error: 0.0030\n",
      "Epoch 18/50\n",
      "51/51 [==============================] - 21s 417ms/step - loss: 0.0268 - mean_squared_logarithmic_error: 0.0268 - val_loss: 0.0013 - val_mean_squared_logarithmic_error: 0.0014\n",
      "Epoch 19/50\n",
      "51/51 [==============================] - 18s 350ms/step - loss: 0.0296 - mean_squared_logarithmic_error: 0.0298 - val_loss: 0.0013 - val_mean_squared_logarithmic_error: 0.0014\n",
      "Epoch 20/50\n",
      "51/51 [==============================] - 18s 345ms/step - loss: 0.0266 - mean_squared_logarithmic_error: 0.0264 - val_loss: 0.0022 - val_mean_squared_logarithmic_error: 0.0023\n",
      "Epoch 21/50\n",
      "51/51 [==============================] - 18s 352ms/step - loss: 0.0303 - mean_squared_logarithmic_error: 0.0301 - val_loss: 0.0015 - val_mean_squared_logarithmic_error: 0.0016\n",
      "Epoch 22/50\n",
      "51/51 [==============================] - 20s 404ms/step - loss: 0.0278 - mean_squared_logarithmic_error: 0.0276 - val_loss: 0.0026 - val_mean_squared_logarithmic_error: 0.0026\n",
      "Epoch 23/50\n",
      "51/51 [==============================] - 19s 373ms/step - loss: 0.0273 - mean_squared_logarithmic_error: 0.0273 - val_loss: 0.0024 - val_mean_squared_logarithmic_error: 0.0025\n",
      "Epoch 24/50\n",
      "51/51 [==============================] - 18s 344ms/step - loss: 0.0238 - mean_squared_logarithmic_error: 0.0239 - val_loss: 0.0014 - val_mean_squared_logarithmic_error: 0.0014\n",
      "Epoch 25/50\n",
      "51/51 [==============================] - 17s 340ms/step - loss: 0.0286 - mean_squared_logarithmic_error: 0.0287 - val_loss: 0.0011 - val_mean_squared_logarithmic_error: 0.0011\n",
      "Epoch 26/50\n",
      "51/51 [==============================] - 18s 350ms/step - loss: 0.0262 - mean_squared_logarithmic_error: 0.0264 - val_loss: 0.0013 - val_mean_squared_logarithmic_error: 0.0013\n",
      "Epoch 27/50\n",
      "51/51 [==============================] - 18s 356ms/step - loss: 0.0290 - mean_squared_logarithmic_error: 0.0287 - val_loss: 0.0028 - val_mean_squared_logarithmic_error: 0.0028\n",
      "Epoch 28/50\n",
      "51/51 [==============================] - 23s 459ms/step - loss: 0.0283 - mean_squared_logarithmic_error: 0.0283 - val_loss: 0.0026 - val_mean_squared_logarithmic_error: 0.0027\n",
      "Epoch 29/50\n",
      "51/51 [==============================] - 18s 344ms/step - loss: 0.0261 - mean_squared_logarithmic_error: 0.0260 - val_loss: 0.0029 - val_mean_squared_logarithmic_error: 0.0029\n",
      "Epoch 30/50\n",
      "51/51 [==============================] - 17s 327ms/step - loss: 0.0282 - mean_squared_logarithmic_error: 0.0283 - val_loss: 0.0016 - val_mean_squared_logarithmic_error: 0.0016\n",
      "Epoch 31/50\n",
      "51/51 [==============================] - 19s 368ms/step - loss: 0.0201 - mean_squared_logarithmic_error: 0.0201 - val_loss: 0.0027 - val_mean_squared_logarithmic_error: 0.0028\n",
      "Epoch 32/50\n",
      "51/51 [==============================] - 17s 334ms/step - loss: 0.0266 - mean_squared_logarithmic_error: 0.0268 - val_loss: 0.0022 - val_mean_squared_logarithmic_error: 0.0023\n",
      "Epoch 33/50\n",
      "51/51 [==============================] - 22s 427ms/step - loss: 0.0242 - mean_squared_logarithmic_error: 0.0242 - val_loss: 0.0024 - val_mean_squared_logarithmic_error: 0.0024\n",
      "Epoch 34/50\n",
      "51/51 [==============================] - 20s 401ms/step - loss: 0.0261 - mean_squared_logarithmic_error: 0.0262 - val_loss: 0.0028 - val_mean_squared_logarithmic_error: 0.0029\n",
      "Epoch 35/50\n",
      "51/51 [==============================] - 19s 376ms/step - loss: 0.0264 - mean_squared_logarithmic_error: 0.0264 - val_loss: 0.0023 - val_mean_squared_logarithmic_error: 0.0023\n",
      "Epoch 36/50\n",
      "51/51 [==============================] - 21s 407ms/step - loss: 0.0232 - mean_squared_logarithmic_error: 0.0233 - val_loss: 0.0019 - val_mean_squared_logarithmic_error: 0.0019\n",
      "Epoch 37/50\n",
      "51/51 [==============================] - 17s 334ms/step - loss: 0.0241 - mean_squared_logarithmic_error: 0.0241 - val_loss: 0.0027 - val_mean_squared_logarithmic_error: 0.0027\n",
      "Epoch 38/50\n",
      "51/51 [==============================] - 17s 328ms/step - loss: 0.0278 - mean_squared_logarithmic_error: 0.0276 - val_loss: 0.0017 - val_mean_squared_logarithmic_error: 0.0018\n",
      "Epoch 39/50\n",
      "51/51 [==============================] - 18s 354ms/step - loss: 0.0244 - mean_squared_logarithmic_error: 0.0244 - val_loss: 0.0025 - val_mean_squared_logarithmic_error: 0.0025\n",
      "Epoch 40/50\n",
      "51/51 [==============================] - 18s 357ms/step - loss: 0.0289 - mean_squared_logarithmic_error: 0.0290 - val_loss: 0.0019 - val_mean_squared_logarithmic_error: 0.0019\n",
      "Epoch 41/50\n",
      "51/51 [==============================] - 19s 367ms/step - loss: 0.0322 - mean_squared_logarithmic_error: 0.0323 - val_loss: 0.0017 - val_mean_squared_logarithmic_error: 0.0017\n",
      "Epoch 42/50\n",
      "51/51 [==============================] - 18s 344ms/step - loss: 0.0297 - mean_squared_logarithmic_error: 0.0299 - val_loss: 0.0018 - val_mean_squared_logarithmic_error: 0.0018\n",
      "Epoch 43/50\n",
      "51/51 [==============================] - 18s 347ms/step - loss: 0.0256 - mean_squared_logarithmic_error: 0.0256 - val_loss: 0.0011 - val_mean_squared_logarithmic_error: 0.0012\n",
      "Epoch 44/50\n",
      "51/51 [==============================] - 18s 353ms/step - loss: 0.0282 - mean_squared_logarithmic_error: 0.0281 - val_loss: 0.0014 - val_mean_squared_logarithmic_error: 0.0015\n",
      "Epoch 45/50\n",
      "51/51 [==============================] - 18s 344ms/step - loss: 0.0262 - mean_squared_logarithmic_error: 0.0262 - val_loss: 0.0013 - val_mean_squared_logarithmic_error: 0.0013\n",
      "Epoch 46/50\n",
      "51/51 [==============================] - 18s 350ms/step - loss: 0.0262 - mean_squared_logarithmic_error: 0.0261 - val_loss: 0.0020 - val_mean_squared_logarithmic_error: 0.0020\n",
      "Epoch 47/50\n",
      "51/51 [==============================] - 17s 333ms/step - loss: 0.0270 - mean_squared_logarithmic_error: 0.0269 - val_loss: 0.0019 - val_mean_squared_logarithmic_error: 0.0019\n",
      "Epoch 48/50\n",
      "51/51 [==============================] - 17s 329ms/step - loss: 0.0267 - mean_squared_logarithmic_error: 0.0272 - val_loss: 0.0025 - val_mean_squared_logarithmic_error: 0.0025\n",
      "Epoch 49/50\n",
      "51/51 [==============================] - 17s 329ms/step - loss: 0.0286 - mean_squared_logarithmic_error: 0.0286 - val_loss: 0.0033 - val_mean_squared_logarithmic_error: 0.0033\n",
      "Epoch 50/50\n",
      "51/51 [==============================] - 17s 338ms/step - loss: 0.0305 - mean_squared_logarithmic_error: 0.0304 - val_loss: 0.0024 - val_mean_squared_logarithmic_error: 0.0024\n"
     ]
    }
   ],
   "source": [
    "historyBS = bestModelB.fit(xTrain, yTrain, epochs=50, batch_size=32,validation_data=(xTest, yTest))\n"
   ]
  },
  {
   "cell_type": "code",
   "execution_count": null,
   "id": "55501644",
   "metadata": {},
   "outputs": [],
   "source": []
  },
  {
   "cell_type": "code",
   "execution_count": 62,
   "id": "8eaa87b1",
   "metadata": {},
   "outputs": [],
   "source": [
    "predictionsLSTMB = bestModelB.predict(xTest)\n",
    "predictionsLSTMB = scaler.inverse_transform(predictionsLSTMB)\n",
    "y_test_scaled = scaler.inverse_transform(yTest.reshape(-1, 1))"
   ]
  },
  {
   "cell_type": "code",
   "execution_count": 108,
   "id": "de7dff66",
   "metadata": {},
   "outputs": [
    {
     "data": {
      "text/plain": [
       "<matplotlib.legend.Legend at 0x24d2ea52220>"
      ]
     },
     "execution_count": 108,
     "metadata": {},
     "output_type": "execute_result"
    },
    {
     "data": {
      "image/png": "[encoded data removed]",
      "text/plain": [
       "<Figure size 576x288 with 1 Axes>"
      ]
     },
     "metadata": {},
     "output_type": "display_data"
    }
   ],
   "source": [
    "fig, ax = plt.subplots(figsize=(8,4))\n",
    "ax.plot(y_test_scaled, color='red', label='Original price')\n",
    "plt.plot(predictionsLSTMB, color='black', label='Predicted price')\n",
    "plt.legend()"
   ]
  },
  {
   "cell_type": "code",
   "execution_count": 64,
   "id": "34286693",
   "metadata": {},
   "outputs": [
    {
     "data": {
      "text/html": [
       "<div>\n",
       "<style scoped>\n",
       "    .dataframe tbody tr th:only-of-type {\n",
       "        vertical-align: middle;\n",
       "    }\n",
       "\n",
       "    .dataframe tbody tr th {\n",
       "        vertical-align: top;\n",
       "    }\n",
       "\n",
       "    .dataframe thead th {\n",
       "        text-align: right;\n",
       "    }\n",
       "</style>\n",
       "<table border=\"1\" class=\"dataframe\">\n",
       "  <thead>\n",
       "    <tr style=\"text-align: right;\">\n",
       "      <th></th>\n",
       "      <th>Original</th>\n",
       "      <th>HyperBand</th>\n",
       "      <th>Random Search</th>\n",
       "      <th>Bayesian</th>\n",
       "    </tr>\n",
       "  </thead>\n",
       "  <tbody>\n",
       "    <tr>\n",
       "      <th>0</th>\n",
       "      <td>5884.65</td>\n",
       "      <td>5677.741211</td>\n",
       "      <td>5600.478516</td>\n",
       "      <td>5873.830078</td>\n",
       "    </tr>\n",
       "    <tr>\n",
       "      <th>1</th>\n",
       "      <td>5889.22</td>\n",
       "      <td>5653.200684</td>\n",
       "      <td>5577.718262</td>\n",
       "      <td>5847.586426</td>\n",
       "    </tr>\n",
       "    <tr>\n",
       "      <th>2</th>\n",
       "      <td>5776.50</td>\n",
       "      <td>5656.173340</td>\n",
       "      <td>5580.800293</td>\n",
       "      <td>5851.396484</td>\n",
       "    </tr>\n",
       "    <tr>\n",
       "      <th>3</th>\n",
       "      <td>5785.65</td>\n",
       "      <td>5585.351562</td>\n",
       "      <td>5516.075684</td>\n",
       "      <td>5774.287109</td>\n",
       "    </tr>\n",
       "    <tr>\n",
       "      <th>4</th>\n",
       "      <td>5860.28</td>\n",
       "      <td>5587.771484</td>\n",
       "      <td>5520.223145</td>\n",
       "      <td>5780.082031</td>\n",
       "    </tr>\n",
       "  </tbody>\n",
       "</table>\n",
       "</div>"
      ],
      "text/plain": [
       "   Original    HyperBand  Random Search     Bayesian\n",
       "0   5884.65  5677.741211    5600.478516  5873.830078\n",
       "1   5889.22  5653.200684    5577.718262  5847.586426\n",
       "2   5776.50  5656.173340    5580.800293  5851.396484\n",
       "3   5785.65  5585.351562    5516.075684  5774.287109\n",
       "4   5860.28  5587.771484    5520.223145  5780.082031"
      ]
     },
     "execution_count": 64,
     "metadata": {},
     "output_type": "execute_result"
    }
   ],
   "source": [
    "dtf['Bayesian'] =  predictionsLSTMB\n",
    "dtf.head()"
   ]
  },
  {
   "cell_type": "markdown",
   "id": "e49ae585",
   "metadata": {},
   "source": [
    "#### Now Lets evaluate the results "
   ]
  },
  {
   "cell_type": "code",
   "execution_count": 128,
   "id": "93759691",
   "metadata": {
    "scrolled": true
   },
   "outputs": [
    {
     "data": {
      "text/plain": [
       "<matplotlib.legend.Legend at 0x24d44353f40>"
      ]
     },
     "execution_count": 128,
     "metadata": {},
     "output_type": "execute_result"
    },
    {
     "data": {
      "image/png": "[encoded data removed]",
      "text/plain": [
       "<Figure size 576x288 with 1 Axes>"
      ]
     },
     "metadata": {},
     "output_type": "display_data"
    }
   ],
   "source": [
    "#lets plot all in one now\n",
    " \n",
    "plt.plot(dtf['HyperBand'],label = \"HyperBand\", color='red') # \n",
    "plt.plot(dtf['Original'],label = \"Original\", color='green') # \n",
    "plt.plot(dtf['Random Search'],label = \"Random Search\",color='yellow') # \n",
    "plt.plot(dtf['Bayesian'],label = \"Bayasian\",color='blue') #\n",
    "\n",
    "\n",
    "plt.title('HP Tuning')\n",
    "plt.xlabel('Time [days]')\n",
    "plt.ylabel('Price')\n",
    "plt.legend(loc='best')\n"
   ]
  },
  {
   "cell_type": "markdown",
   "id": "d9efe170",
   "metadata": {},
   "source": [
    "#### Lets make some graphs to check \n"
   ]
  },
  {
   "cell_type": "code",
   "execution_count": 69,
   "id": "1425a8c9",
   "metadata": {},
   "outputs": [
    {
     "data": {
      "text/plain": [
       "<Figure size 1280x800 with 0 Axes>"
      ]
     },
     "metadata": {},
     "output_type": "display_data"
    },
    {
     "data": {
      "image/png": "[encoded data removed]",
      "text/plain": [
       "<Figure size 864x576 with 5 Axes>"
      ]
     },
     "metadata": {},
     "output_type": "display_data"
    }
   ],
   "source": [
    "\n",
    "import joypy\n",
    "mpg = dtf\n",
    "\n",
    "# Draw Plot\n",
    "plt.figure(figsize=(16,10), dpi= 80)\n",
    "fig, axes = joypy.joyplot(dtf,  figsize=(12,8))\n",
    "\n",
    "# Decoration\n",
    "plt.title('Joy Plot HP tuning methods of Keras compared to the original', fontsize=22)\n",
    "plt.show()"
   ]
  },
  {
   "cell_type": "code",
   "execution_count": 70,
   "id": "4a9e8ac7",
   "metadata": {},
   "outputs": [],
   "source": [
    "def createValueDF(values):\n",
    "    values = [values.get(\"units\"),\n",
    "              values.get(\"units1\"),\n",
    "              values.get(\"units2\"),\n",
    "              values.get(\"units3\"),\n",
    "              values.get(\"dropout\"),\n",
    "              values.get(\"learning_rate\")\n",
    "             ]\n",
    "    return values"
   ]
  },
  {
   "cell_type": "markdown",
   "id": "f4a10b34",
   "metadata": {},
   "source": [
    "#### Comparison of all of the hyper parameters ( best models comparison )"
   ]
  },
  {
   "cell_type": "code",
   "execution_count": 71,
   "id": "7c4c5e09",
   "metadata": {
    "scrolled": true
   },
   "outputs": [
    {
     "data": {
      "text/html": [
       "<div>\n",
       "<style scoped>\n",
       "    .dataframe tbody tr th:only-of-type {\n",
       "        vertical-align: middle;\n",
       "    }\n",
       "\n",
       "    .dataframe tbody tr th {\n",
       "        vertical-align: top;\n",
       "    }\n",
       "\n",
       "    .dataframe thead th {\n",
       "        text-align: right;\n",
       "    }\n",
       "</style>\n",
       "<table border=\"1\" class=\"dataframe\">\n",
       "  <thead>\n",
       "    <tr style=\"text-align: right;\">\n",
       "      <th></th>\n",
       "      <th>Parameter</th>\n",
       "      <th>Hyperband</th>\n",
       "      <th>Bayesian</th>\n",
       "      <th>RandomSearch</th>\n",
       "    </tr>\n",
       "  </thead>\n",
       "  <tbody>\n",
       "    <tr>\n",
       "      <th>0</th>\n",
       "      <td>units</td>\n",
       "      <td>64.00</td>\n",
       "      <td>512.00</td>\n",
       "      <td>320.00</td>\n",
       "    </tr>\n",
       "    <tr>\n",
       "      <th>1</th>\n",
       "      <td>units1</td>\n",
       "      <td>448.00</td>\n",
       "      <td>96.00</td>\n",
       "      <td>128.00</td>\n",
       "    </tr>\n",
       "    <tr>\n",
       "      <th>2</th>\n",
       "      <td>units2</td>\n",
       "      <td>416.00</td>\n",
       "      <td>512.00</td>\n",
       "      <td>448.00</td>\n",
       "    </tr>\n",
       "    <tr>\n",
       "      <th>3</th>\n",
       "      <td>units3</td>\n",
       "      <td>96.00</td>\n",
       "      <td>512.00</td>\n",
       "      <td>192.00</td>\n",
       "    </tr>\n",
       "    <tr>\n",
       "      <th>4</th>\n",
       "      <td>dropout</td>\n",
       "      <td>0.20</td>\n",
       "      <td>0.10</td>\n",
       "      <td>0.30</td>\n",
       "    </tr>\n",
       "    <tr>\n",
       "      <th>5</th>\n",
       "      <td>learning_rate</td>\n",
       "      <td>0.01</td>\n",
       "      <td>0.01</td>\n",
       "      <td>0.01</td>\n",
       "    </tr>\n",
       "  </tbody>\n",
       "</table>\n",
       "</div>"
      ],
      "text/plain": [
       "       Parameter  Hyperband  Bayesian  RandomSearch\n",
       "0          units      64.00    512.00        320.00\n",
       "1         units1     448.00     96.00        128.00\n",
       "2         units2     416.00    512.00        448.00\n",
       "3         units3      96.00    512.00        192.00\n",
       "4        dropout       0.20      0.10          0.30\n",
       "5  learning_rate       0.01      0.01          0.01"
      ]
     },
     "execution_count": 71,
     "metadata": {},
     "output_type": "execute_result"
    }
   ],
   "source": [
    "hpdf = pd.DataFrame()\n",
    "hpdf['Parameter'] =  [\"units\",\"units1\",\"units2\",\"units3\",\"dropout\",\"learning_rate\"]\n",
    "hpdf['Hyperband'] =  createValueDF(bestHpsHB.values)\n",
    "hpdf['Bayesian'] =   createValueDF(bestB.values)    \n",
    "hpdf['RandomSearch'] =  createValueDF(besthpsRS.values)   \n",
    "hpdf.set_index('Parameter')\n",
    "hpdf"
   ]
  },
  {
   "cell_type": "markdown",
   "id": "d9acb5bc",
   "metadata": {},
   "source": [
    "#### hyper parameter comparison "
   ]
  },
  {
   "cell_type": "code",
   "execution_count": 130,
   "id": "621d4fea",
   "metadata": {},
   "outputs": [
    {
     "data": {
      "image/png": "[encoded data removed]",
      "text/plain": [
       "<Figure size 576x288 with 1 Axes>"
      ]
     },
     "metadata": {},
     "output_type": "display_data"
    }
   ],
   "source": [
    "    from matplotlib.colors import ListedColormap\n",
    " \n",
    "    ax = hpdf.plot.bar(x='Parameter')\n",
    "    ax.set_xlabel(None)\n",
    "    ax.set_ylabel('Values')\n",
    "    ax.set_title('Hyper parameter Comparison')\n",
    "\n",
    "    plt.show()\n",
    "  \n"
   ]
  },
  {
   "cell_type": "code",
   "execution_count": 73,
   "id": "8f4417f7",
   "metadata": {
    "scrolled": true
   },
   "outputs": [
    {
     "data": {
      "text/plain": [
       "<AxesSubplot:title={'center':'Predications summary values'}>"
      ]
     },
     "execution_count": 73,
     "metadata": {},
     "output_type": "execute_result"
    },
    {
     "data": {
      "image/png": "[encoded data removed]",
      "text/plain": [
       "<Figure size 720x360 with 1 Axes>"
      ]
     },
     "metadata": {},
     "output_type": "display_data"
    }
   ],
   "source": [
    "dtf.plot.box(figsize = (10,5), title = \"Predications summary values\")"
   ]
  },
  {
   "cell_type": "code",
   "execution_count": 74,
   "id": "9b17b85b",
   "metadata": {},
   "outputs": [
    {
     "data": {
      "image/png": "[encoded data removed]",
      "text/plain": [
       "<Figure size 960x640 with 1 Axes>"
      ]
     },
     "metadata": {},
     "output_type": "display_data"
    }
   ],
   "source": [
    "plt.figure(figsize=(8,4), dpi= 80)\n",
    "sns.violinplot( data=dtf, scale='width', inner='quartile')\n",
    "\n",
    "# Decoration\n",
    "plt.title('Violin Plot of Forecasted time series', fontsize=22)\n",
    "plt.show()"
   ]
  },
  {
   "cell_type": "markdown",
   "id": "aa929963",
   "metadata": {},
   "source": [
    "From the above two box plot and violin plot there is a clear winner isnt it ? but we have to do the it mathematically \n",
    "so lets calculate the MSE"
   ]
  },
  {
   "cell_type": "code",
   "execution_count": 129,
   "id": "d1f67556",
   "metadata": {},
   "outputs": [
    {
     "name": "stdout",
     "output_type": "stream",
     "text": [
      "467.3062627438007\n",
      "237.5297978895316\n",
      "598.5526092952946\n"
     ]
    }
   ],
   "source": [
    "from sklearn.metrics import mean_squared_error\n",
    "from math import sqrt\n",
    "hmse=sqrt(mean_squared_error(dtf['Original'],dtf['HyperBand']))\n",
    "print(hmse)\n",
    "bmse=sqrt(mean_squared_error(dtf['Original'],dtf['Bayesian']))\n",
    "print(bmse)\n",
    "rmse=sqrt(mean_squared_error(dtf['Original'],dtf['Random Search']))\n",
    "print(rmse)\n",
    " \n"
   ]
  },
  {
   "cell_type": "markdown",
   "id": "63cfbe28",
   "metadata": {},
   "source": [
    "So Bayesian is the the best performer !! \n",
    "But there is a catch !! , Hyperband and Random search are both based on Random search , so it's not based on inteligence but based on probability , so in any given run there is a chance that one of those or both may surparse Bayesian !!\n",
    "<font color='green' size='3'>Compared to what I achieved with LSTM in Big Data assignment this is just  64.5 % accuracy increasement !! </font> <font color = 'blue' size = '3' >This is why you need to tune hyper-parameters ! <font>"
   ]
  },
  {
   "cell_type": "markdown",
   "id": "2da317a6",
   "metadata": {},
   "source": [
    "We do have all the model training history results saved as well , \n",
    "lets plot the value loss of all of the searchs in one 3D plot "
   ]
  },
  {
   "cell_type": "code",
   "execution_count": 78,
   "id": "3c9c282d",
   "metadata": {},
   "outputs": [
    {
     "data": {
      "text/plain": [
       "dict_keys(['loss', 'mean_squared_logarithmic_error', 'val_loss', 'val_mean_squared_logarithmic_error'])"
      ]
     },
     "execution_count": 78,
     "metadata": {},
     "output_type": "execute_result"
    }
   ],
   "source": [
    "historyRS.history.keys()"
   ]
  },
  {
   "cell_type": "code",
   "execution_count": 79,
   "id": "7ca6c594",
   "metadata": {},
   "outputs": [
    {
     "data": {
      "text/plain": [
       "dict_keys(['loss', 'mean_squared_logarithmic_error', 'val_loss', 'val_mean_squared_logarithmic_error'])"
      ]
     },
     "execution_count": 79,
     "metadata": {},
     "output_type": "execute_result"
    }
   ],
   "source": [
    "historyHB.history.keys()\n"
   ]
  },
  {
   "cell_type": "code",
   "execution_count": 80,
   "id": "f61b1c08",
   "metadata": {},
   "outputs": [
    {
     "data": {
      "text/plain": [
       "dict_keys(['loss', 'mean_squared_logarithmic_error', 'val_loss', 'val_mean_squared_logarithmic_error'])"
      ]
     },
     "execution_count": 80,
     "metadata": {},
     "output_type": "execute_result"
    }
   ],
   "source": [
    "historyBS.history.keys()"
   ]
  },
  {
   "cell_type": "code",
   "execution_count": 87,
   "id": "d810d146",
   "metadata": {},
   "outputs": [
    {
     "data": {
      "image/png": "[encoded data removed]",
      "text/plain": [
       "<Figure size 1152x504 with 1 Axes>"
      ]
     },
     "metadata": {},
     "output_type": "display_data"
    }
   ],
   "source": [
    "#Value loss of Bayesian ( best model ) , Graph is odd , I think I may have made a mistake with history values \n",
    "plt.figure(figsize=(16,7))\n",
    "plt.plot(historyBS.history['loss'], label='train')\n",
    "\n",
    "plt.plot(historyBS.history['val_loss'], label='test')\n",
    "plt.legend()\n",
    "plt.show()"
   ]
  },
  {
   "cell_type": "code",
   "execution_count": 89,
   "id": "1dfa00dd",
   "metadata": {},
   "outputs": [],
   "source": [
    "lossdf = pd.DataFrame()\n",
    "lossdf['Bayesian'] = historyBS.history['loss']\n",
    "lossdf['Random Search'] = historyRS.history['loss']\n",
    "lossdf['Hyperband'] = historyHB.history['loss']"
   ]
  },
  {
   "cell_type": "code",
   "execution_count": 90,
   "id": "64765fbe",
   "metadata": {},
   "outputs": [
    {
     "data": {
      "text/html": [
       "<div>\n",
       "<style scoped>\n",
       "    .dataframe tbody tr th:only-of-type {\n",
       "        vertical-align: middle;\n",
       "    }\n",
       "\n",
       "    .dataframe tbody tr th {\n",
       "        vertical-align: top;\n",
       "    }\n",
       "\n",
       "    .dataframe thead th {\n",
       "        text-align: right;\n",
       "    }\n",
       "</style>\n",
       "<table border=\"1\" class=\"dataframe\">\n",
       "  <thead>\n",
       "    <tr style=\"text-align: right;\">\n",
       "      <th></th>\n",
       "      <th>Bayesian</th>\n",
       "      <th>Random Search</th>\n",
       "      <th>Hyperband</th>\n",
       "    </tr>\n",
       "  </thead>\n",
       "  <tbody>\n",
       "    <tr>\n",
       "      <th>0</th>\n",
       "      <td>0.031464</td>\n",
       "      <td>0.087108</td>\n",
       "      <td>0.057117</td>\n",
       "    </tr>\n",
       "    <tr>\n",
       "      <th>1</th>\n",
       "      <td>0.032302</td>\n",
       "      <td>0.080698</td>\n",
       "      <td>0.055432</td>\n",
       "    </tr>\n",
       "    <tr>\n",
       "      <th>2</th>\n",
       "      <td>0.030521</td>\n",
       "      <td>0.080201</td>\n",
       "      <td>0.051545</td>\n",
       "    </tr>\n",
       "    <tr>\n",
       "      <th>3</th>\n",
       "      <td>0.026228</td>\n",
       "      <td>0.083181</td>\n",
       "      <td>0.047345</td>\n",
       "    </tr>\n",
       "    <tr>\n",
       "      <th>4</th>\n",
       "      <td>0.029154</td>\n",
       "      <td>0.076353</td>\n",
       "      <td>0.052485</td>\n",
       "    </tr>\n",
       "    <tr>\n",
       "      <th>5</th>\n",
       "      <td>0.027123</td>\n",
       "      <td>0.076326</td>\n",
       "      <td>0.051658</td>\n",
       "    </tr>\n",
       "    <tr>\n",
       "      <th>6</th>\n",
       "      <td>0.029377</td>\n",
       "      <td>0.078315</td>\n",
       "      <td>0.054700</td>\n",
       "    </tr>\n",
       "    <tr>\n",
       "      <th>7</th>\n",
       "      <td>0.025379</td>\n",
       "      <td>0.082265</td>\n",
       "      <td>0.049268</td>\n",
       "    </tr>\n",
       "    <tr>\n",
       "      <th>8</th>\n",
       "      <td>0.025082</td>\n",
       "      <td>0.079627</td>\n",
       "      <td>0.052674</td>\n",
       "    </tr>\n",
       "    <tr>\n",
       "      <th>9</th>\n",
       "      <td>0.027224</td>\n",
       "      <td>0.082743</td>\n",
       "      <td>0.052098</td>\n",
       "    </tr>\n",
       "    <tr>\n",
       "      <th>10</th>\n",
       "      <td>0.029331</td>\n",
       "      <td>0.081399</td>\n",
       "      <td>0.057424</td>\n",
       "    </tr>\n",
       "    <tr>\n",
       "      <th>11</th>\n",
       "      <td>0.028192</td>\n",
       "      <td>0.083680</td>\n",
       "      <td>0.053903</td>\n",
       "    </tr>\n",
       "    <tr>\n",
       "      <th>12</th>\n",
       "      <td>0.026343</td>\n",
       "      <td>0.074984</td>\n",
       "      <td>0.053086</td>\n",
       "    </tr>\n",
       "    <tr>\n",
       "      <th>13</th>\n",
       "      <td>0.023487</td>\n",
       "      <td>0.079044</td>\n",
       "      <td>0.051998</td>\n",
       "    </tr>\n",
       "    <tr>\n",
       "      <th>14</th>\n",
       "      <td>0.028103</td>\n",
       "      <td>0.083344</td>\n",
       "      <td>0.051748</td>\n",
       "    </tr>\n",
       "    <tr>\n",
       "      <th>15</th>\n",
       "      <td>0.029790</td>\n",
       "      <td>0.082777</td>\n",
       "      <td>0.052145</td>\n",
       "    </tr>\n",
       "    <tr>\n",
       "      <th>16</th>\n",
       "      <td>0.026474</td>\n",
       "      <td>0.082701</td>\n",
       "      <td>0.055901</td>\n",
       "    </tr>\n",
       "    <tr>\n",
       "      <th>17</th>\n",
       "      <td>0.026826</td>\n",
       "      <td>0.079597</td>\n",
       "      <td>0.055292</td>\n",
       "    </tr>\n",
       "    <tr>\n",
       "      <th>18</th>\n",
       "      <td>0.029603</td>\n",
       "      <td>0.077947</td>\n",
       "      <td>0.052204</td>\n",
       "    </tr>\n",
       "    <tr>\n",
       "      <th>19</th>\n",
       "      <td>0.026624</td>\n",
       "      <td>0.080658</td>\n",
       "      <td>0.050794</td>\n",
       "    </tr>\n",
       "    <tr>\n",
       "      <th>20</th>\n",
       "      <td>0.030309</td>\n",
       "      <td>0.077686</td>\n",
       "      <td>0.055877</td>\n",
       "    </tr>\n",
       "    <tr>\n",
       "      <th>21</th>\n",
       "      <td>0.027845</td>\n",
       "      <td>0.080767</td>\n",
       "      <td>0.059146</td>\n",
       "    </tr>\n",
       "    <tr>\n",
       "      <th>22</th>\n",
       "      <td>0.027293</td>\n",
       "      <td>0.082189</td>\n",
       "      <td>0.054172</td>\n",
       "    </tr>\n",
       "    <tr>\n",
       "      <th>23</th>\n",
       "      <td>0.023832</td>\n",
       "      <td>0.084030</td>\n",
       "      <td>0.050674</td>\n",
       "    </tr>\n",
       "    <tr>\n",
       "      <th>24</th>\n",
       "      <td>0.028598</td>\n",
       "      <td>0.083623</td>\n",
       "      <td>0.057222</td>\n",
       "    </tr>\n",
       "    <tr>\n",
       "      <th>25</th>\n",
       "      <td>0.026165</td>\n",
       "      <td>0.079075</td>\n",
       "      <td>0.055317</td>\n",
       "    </tr>\n",
       "    <tr>\n",
       "      <th>26</th>\n",
       "      <td>0.028979</td>\n",
       "      <td>0.082158</td>\n",
       "      <td>0.047481</td>\n",
       "    </tr>\n",
       "    <tr>\n",
       "      <th>27</th>\n",
       "      <td>0.028251</td>\n",
       "      <td>0.079063</td>\n",
       "      <td>0.053151</td>\n",
       "    </tr>\n",
       "    <tr>\n",
       "      <th>28</th>\n",
       "      <td>0.026070</td>\n",
       "      <td>0.076948</td>\n",
       "      <td>0.058360</td>\n",
       "    </tr>\n",
       "    <tr>\n",
       "      <th>29</th>\n",
       "      <td>0.028221</td>\n",
       "      <td>0.081302</td>\n",
       "      <td>0.054133</td>\n",
       "    </tr>\n",
       "    <tr>\n",
       "      <th>30</th>\n",
       "      <td>0.020121</td>\n",
       "      <td>0.079915</td>\n",
       "      <td>0.054548</td>\n",
       "    </tr>\n",
       "    <tr>\n",
       "      <th>31</th>\n",
       "      <td>0.026561</td>\n",
       "      <td>0.083502</td>\n",
       "      <td>0.055625</td>\n",
       "    </tr>\n",
       "    <tr>\n",
       "      <th>32</th>\n",
       "      <td>0.024175</td>\n",
       "      <td>0.081806</td>\n",
       "      <td>0.052173</td>\n",
       "    </tr>\n",
       "    <tr>\n",
       "      <th>33</th>\n",
       "      <td>0.026142</td>\n",
       "      <td>0.073718</td>\n",
       "      <td>0.052448</td>\n",
       "    </tr>\n",
       "    <tr>\n",
       "      <th>34</th>\n",
       "      <td>0.026392</td>\n",
       "      <td>0.081610</td>\n",
       "      <td>0.053706</td>\n",
       "    </tr>\n",
       "    <tr>\n",
       "      <th>35</th>\n",
       "      <td>0.023218</td>\n",
       "      <td>0.086046</td>\n",
       "      <td>0.054574</td>\n",
       "    </tr>\n",
       "    <tr>\n",
       "      <th>36</th>\n",
       "      <td>0.024051</td>\n",
       "      <td>0.075803</td>\n",
       "      <td>0.053263</td>\n",
       "    </tr>\n",
       "    <tr>\n",
       "      <th>37</th>\n",
       "      <td>0.027761</td>\n",
       "      <td>0.078976</td>\n",
       "      <td>0.055752</td>\n",
       "    </tr>\n",
       "    <tr>\n",
       "      <th>38</th>\n",
       "      <td>0.024447</td>\n",
       "      <td>0.083494</td>\n",
       "      <td>0.054779</td>\n",
       "    </tr>\n",
       "    <tr>\n",
       "      <th>39</th>\n",
       "      <td>0.028878</td>\n",
       "      <td>0.082429</td>\n",
       "      <td>0.051200</td>\n",
       "    </tr>\n",
       "    <tr>\n",
       "      <th>40</th>\n",
       "      <td>0.032210</td>\n",
       "      <td>0.079906</td>\n",
       "      <td>0.051782</td>\n",
       "    </tr>\n",
       "    <tr>\n",
       "      <th>41</th>\n",
       "      <td>0.029747</td>\n",
       "      <td>0.083406</td>\n",
       "      <td>0.052216</td>\n",
       "    </tr>\n",
       "    <tr>\n",
       "      <th>42</th>\n",
       "      <td>0.025587</td>\n",
       "      <td>0.086278</td>\n",
       "      <td>0.053904</td>\n",
       "    </tr>\n",
       "    <tr>\n",
       "      <th>43</th>\n",
       "      <td>0.028186</td>\n",
       "      <td>0.080895</td>\n",
       "      <td>0.054212</td>\n",
       "    </tr>\n",
       "    <tr>\n",
       "      <th>44</th>\n",
       "      <td>0.026235</td>\n",
       "      <td>0.078521</td>\n",
       "      <td>0.052849</td>\n",
       "    </tr>\n",
       "    <tr>\n",
       "      <th>45</th>\n",
       "      <td>0.026247</td>\n",
       "      <td>0.080808</td>\n",
       "      <td>0.056372</td>\n",
       "    </tr>\n",
       "    <tr>\n",
       "      <th>46</th>\n",
       "      <td>0.026989</td>\n",
       "      <td>0.077629</td>\n",
       "      <td>0.053235</td>\n",
       "    </tr>\n",
       "    <tr>\n",
       "      <th>47</th>\n",
       "      <td>0.026684</td>\n",
       "      <td>0.079677</td>\n",
       "      <td>0.059100</td>\n",
       "    </tr>\n",
       "    <tr>\n",
       "      <th>48</th>\n",
       "      <td>0.028600</td>\n",
       "      <td>0.082744</td>\n",
       "      <td>0.051937</td>\n",
       "    </tr>\n",
       "    <tr>\n",
       "      <th>49</th>\n",
       "      <td>0.030539</td>\n",
       "      <td>0.082464</td>\n",
       "      <td>0.052920</td>\n",
       "    </tr>\n",
       "  </tbody>\n",
       "</table>\n",
       "</div>"
      ],
      "text/plain": [
       "    Bayesian  Random Search  Hyperband\n",
       "0   0.031464       0.087108   0.057117\n",
       "1   0.032302       0.080698   0.055432\n",
       "2   0.030521       0.080201   0.051545\n",
       "3   0.026228       0.083181   0.047345\n",
       "4   0.029154       0.076353   0.052485\n",
       "5   0.027123       0.076326   0.051658\n",
       "6   0.029377       0.078315   0.054700\n",
       "7   0.025379       0.082265   0.049268\n",
       "8   0.025082       0.079627   0.052674\n",
       "9   0.027224       0.082743   0.052098\n",
       "10  0.029331       0.081399   0.057424\n",
       "11  0.028192       0.083680   0.053903\n",
       "12  0.026343       0.074984   0.053086\n",
       "13  0.023487       0.079044   0.051998\n",
       "14  0.028103       0.083344   0.051748\n",
       "15  0.029790       0.082777   0.052145\n",
       "16  0.026474       0.082701   0.055901\n",
       "17  0.026826       0.079597   0.055292\n",
       "18  0.029603       0.077947   0.052204\n",
       "19  0.026624       0.080658   0.050794\n",
       "20  0.030309       0.077686   0.055877\n",
       "21  0.027845       0.080767   0.059146\n",
       "22  0.027293       0.082189   0.054172\n",
       "23  0.023832       0.084030   0.050674\n",
       "24  0.028598       0.083623   0.057222\n",
       "25  0.026165       0.079075   0.055317\n",
       "26  0.028979       0.082158   0.047481\n",
       "27  0.028251       0.079063   0.053151\n",
       "28  0.026070       0.076948   0.058360\n",
       "29  0.028221       0.081302   0.054133\n",
       "30  0.020121       0.079915   0.054548\n",
       "31  0.026561       0.083502   0.055625\n",
       "32  0.024175       0.081806   0.052173\n",
       "33  0.026142       0.073718   0.052448\n",
       "34  0.026392       0.081610   0.053706\n",
       "35  0.023218       0.086046   0.054574\n",
       "36  0.024051       0.075803   0.053263\n",
       "37  0.027761       0.078976   0.055752\n",
       "38  0.024447       0.083494   0.054779\n",
       "39  0.028878       0.082429   0.051200\n",
       "40  0.032210       0.079906   0.051782\n",
       "41  0.029747       0.083406   0.052216\n",
       "42  0.025587       0.086278   0.053904\n",
       "43  0.028186       0.080895   0.054212\n",
       "44  0.026235       0.078521   0.052849\n",
       "45  0.026247       0.080808   0.056372\n",
       "46  0.026989       0.077629   0.053235\n",
       "47  0.026684       0.079677   0.059100\n",
       "48  0.028600       0.082744   0.051937\n",
       "49  0.030539       0.082464   0.052920"
      ]
     },
     "execution_count": 90,
     "metadata": {},
     "output_type": "execute_result"
    }
   ],
   "source": [
    "lossdf"
   ]
  },
  {
   "cell_type": "code",
   "execution_count": 97,
   "id": "f84433fd",
   "metadata": {},
   "outputs": [
    {
     "data": {
      "application/vnd.plotly.v1+json": {
       "config": {
        "plotlyServerURL": "https://plot.ly"
       },
       "data": [
        {
         "hovertemplate": "Bayesian=%{x}<br>Random Search=%{y}<br>Hyperband=%{z}<br>size=%{marker.size}<br>color=%{marker.color}<extra></extra>",
         "legendgroup": "",
         "marker": {
          "color": [
           0,
           1,
           2,
           3,
           4,
           5,
           6,
           7,
           8,
           9,
           10,
           11,
           12,
           13,
           14,
           15,
           16,
           17,
           18,
           19,
           20,
           21,
           22,
           23,
           24,
           25,
           26,
           27,
           28,
           29,
           30,
           31,
           32,
           33,
           34,
           35,
           36,
           37,
           38,
           39,
           40,
           41,
           42,
           43,
           44,
           45,
           46,
           47,
           48,
           49
          ],
          "coloraxis": "coloraxis",
          "opacity": 0.7,
          "size": [
           0,
           1,
           2,
           3,
           4,
           5,
           6,
           7,
           8,
           9,
           10,
           11,
           12,
           13,
           14,
           15,
           16,
           17,
           18,
           19,
           20,
           21,
           22,
           23,
           24,
           25,
           26,
           27,
           28,
           29,
           30,
           31,
           32,
           33,
           34,
           35,
           36,
           37,
           38,
           39,
           40,
           41,
           42,
           43,
           44,
           45,
           46,
           47,
           48,
           49
          ],
          "sizemode": "area",
          "sizeref": 0.15123456790123457,
          "symbol": "circle"
         },
         "mode": "markers",
         "name": "",
         "scene": "scene",
         "showlegend": false,
         "type": "scatter3d",
         "x": [
          0.03146429359912872,
          0.03230215236544609,
          0.030521446838974953,
          0.02622758410871029,
          0.029153943061828613,
          0.027122607454657555,
          0.0293770469725132,
          0.025378573685884476,
          0.02508174441754818,
          0.02722361870110035,
          0.029331481084227562,
          0.028191685676574707,
          0.02634253166615963,
          0.023487258702516556,
          0.028102753683924675,
          0.029790285974740982,
          0.02647419273853302,
          0.02682606503367424,
          0.02960336022078991,
          0.02662360668182373,
          0.030309468507766724,
          0.02784535475075245,
          0.027292655780911446,
          0.02383231557905674,
          0.028598155826330185,
          0.026165282353758812,
          0.028978947550058365,
          0.028250951319932938,
          0.026070399209856987,
          0.028221184387803078,
          0.02012086845934391,
          0.02656138315796852,
          0.024174712598323822,
          0.02614225260913372,
          0.026391571387648582,
          0.023217909038066864,
          0.02405126765370369,
          0.02776069939136505,
          0.02444695308804512,
          0.028878122568130493,
          0.03220996633172035,
          0.029746776446700096,
          0.025586513802409172,
          0.028185712173581123,
          0.02623535506427288,
          0.026247374713420868,
          0.026988985016942024,
          0.02668391540646553,
          0.028599653393030167,
          0.03053903393447399
         ],
         "y": [
          0.08710793405771255,
          0.08069758862257004,
          0.08020149916410446,
          0.08318126946687698,
          0.07635343074798584,
          0.07632649689912796,
          0.07831504195928574,
          0.08226538449525833,
          0.07962725311517715,
          0.08274336159229279,
          0.08139856904745102,
          0.08368032425642014,
          0.07498400658369064,
          0.07904426008462906,
          0.08334372937679291,
          0.0827774778008461,
          0.08270145952701569,
          0.0795970931649208,
          0.07794739305973053,
          0.08065759390592575,
          0.07768578082323074,
          0.08076730370521545,
          0.0821889266371727,
          0.08403041213750839,
          0.08362274616956711,
          0.07907455414533615,
          0.08215812593698502,
          0.07906310260295868,
          0.07694809138774872,
          0.08130225539207458,
          0.07991509139537811,
          0.08350241929292679,
          0.08180618286132812,
          0.07371844351291656,
          0.08160969614982605,
          0.08604587614536285,
          0.07580284029245377,
          0.07897592335939407,
          0.08349449187517166,
          0.08242852240800858,
          0.07990644127130508,
          0.08340565115213394,
          0.08627817034721375,
          0.0808948203921318,
          0.07852134108543396,
          0.08080781251192093,
          0.07762894034385681,
          0.07967715710401535,
          0.08274371922016144,
          0.08246428519487381
         ],
         "z": [
          0.05711653456091881,
          0.05543188378214836,
          0.05154527351260185,
          0.047344841063022614,
          0.052484504878520966,
          0.051657579839229584,
          0.05470030754804611,
          0.04926809296011925,
          0.052674420177936554,
          0.0520981140434742,
          0.05742353945970535,
          0.05390266329050064,
          0.053086113184690475,
          0.05199776962399483,
          0.051747988909482956,
          0.052145276218652725,
          0.055901460349559784,
          0.05529206991195679,
          0.052203547209501266,
          0.05079430714249611,
          0.05587661638855934,
          0.05914594605565071,
          0.054171886295080185,
          0.05067353695631027,
          0.05722200125455856,
          0.05531745031476021,
          0.04748113080859184,
          0.05315059423446655,
          0.05836034566164017,
          0.05413250997662544,
          0.05454809591174126,
          0.055625222623348236,
          0.05217263847589493,
          0.052448030561208725,
          0.05370595306158066,
          0.05457388982176781,
          0.05326324328780174,
          0.055752020329236984,
          0.05477938428521156,
          0.05120036378502846,
          0.05178191140294075,
          0.05221560597419739,
          0.05390363559126854,
          0.05421225354075432,
          0.05284927785396576,
          0.056371696293354034,
          0.05323535203933716,
          0.05909987539052963,
          0.05193730443716049,
          0.05292043089866638
         ]
        }
       ],
       "layout": {
        "coloraxis": {
         "colorbar": {
          "title": {
           "text": "color"
          }
         },
         "colorscale": [
          [
           0,
           "#0d0887"
          ],
          [
           0.1111111111111111,
           "#46039f"
          ],
          [
           0.2222222222222222,
           "#7201a8"
          ],
          [
           0.3333333333333333,
           "#9c179e"
          ],
          [
           0.4444444444444444,
           "#bd3786"
          ],
          [
           0.5555555555555556,
           "#d8576b"
          ],
          [
           0.6666666666666666,
           "#ed7953"
          ],
          [
           0.7777777777777778,
           "#fb9f3a"
          ],
          [
           0.8888888888888888,
           "#fdca26"
          ],
          [
           1,
           "#f0f921"
          ]
         ]
        },
        "legend": {
         "itemsizing": "constant",
         "tracegroupgap": 0
        },
        "margin": {
         "b": 0,
         "l": 0,
         "r": 0,
         "t": 0
        },
        "scene": {
         "domain": {
          "x": [
           0,
           1
          ],
          "y": [
           0,
           1
          ]
         },
         "xaxis": {
          "title": {
           "text": "Bayesian"
          }
         },
         "yaxis": {
          "title": {
           "text": "Random Search"
          }
         },
         "zaxis": {
          "title": {
           "text": "Hyperband"
          }
         }
        },
        "template": {
         "data": {
          "bar": [
           {
            "error_x": {
             "color": "#2a3f5f"
            },
            "error_y": {
             "color": "#2a3f5f"
            },
            "marker": {
             "line": {
              "color": "#E5ECF6",
              "width": 0.5
             },
             "pattern": {
              "fillmode": "overlay",
              "size": 10,
              "solidity": 0.2
             }
            },
            "type": "bar"
           }
          ],
          "barpolar": [
           {
            "marker": {
             "line": {
              "color": "#E5ECF6",
              "width": 0.5
             },
             "pattern": {
              "fillmode": "overlay",
              "size": 10,
              "solidity": 0.2
             }
            },
            "type": "barpolar"
           }
          ],
          "carpet": [
           {
            "aaxis": {
             "endlinecolor": "#2a3f5f",
             "gridcolor": "white",
             "linecolor": "white",
             "minorgridcolor": "white",
             "startlinecolor": "#2a3f5f"
            },
            "baxis": {
             "endlinecolor": "#2a3f5f",
             "gridcolor": "white",
             "linecolor": "white",
             "minorgridcolor": "white",
             "startlinecolor": "#2a3f5f"
            },
            "type": "carpet"
           }
          ],
          "choropleth": [
           {
            "colorbar": {
             "outlinewidth": 0,
             "ticks": ""
            },
            "type": "choropleth"
           }
          ],
          "contour": [
           {
            "colorbar": {
             "outlinewidth": 0,
             "ticks": ""
            },
            "colorscale": [
             [
              0,
              "#0d0887"
             ],
             [
              0.1111111111111111,
              "#46039f"
             ],
             [
              0.2222222222222222,
              "#7201a8"
             ],
             [
              0.3333333333333333,
              "#9c179e"
             ],
             [
              0.4444444444444444,
              "#bd3786"
             ],
             [
              0.5555555555555556,
              "#d8576b"
             ],
             [
              0.6666666666666666,
              "#ed7953"
             ],
             [
              0.7777777777777778,
              "#fb9f3a"
             ],
             [
              0.8888888888888888,
              "#fdca26"
             ],
             [
              1,
              "#f0f921"
             ]
            ],
            "type": "contour"
           }
          ],
          "contourcarpet": [
           {
            "colorbar": {
             "outlinewidth": 0,
             "ticks": ""
            },
            "type": "contourcarpet"
           }
          ],
          "heatmap": [
           {
            "colorbar": {
             "outlinewidth": 0,
             "ticks": ""
            },
            "colorscale": [
             [
              0,
              "#0d0887"
             ],
             [
              0.1111111111111111,
              "#46039f"
             ],
             [
              0.2222222222222222,
              "#7201a8"
             ],
             [
              0.3333333333333333,
              "#9c179e"
             ],
             [
              0.4444444444444444,
              "#bd3786"
             ],
             [
              0.5555555555555556,
              "#d8576b"
             ],
             [
              0.6666666666666666,
              "#ed7953"
             ],
             [
              0.7777777777777778,
              "#fb9f3a"
             ],
             [
              0.8888888888888888,
              "#fdca26"
             ],
             [
              1,
              "#f0f921"
             ]
            ],
            "type": "heatmap"
           }
          ],
          "heatmapgl": [
           {
            "colorbar": {
             "outlinewidth": 0,
             "ticks": ""
            },
            "colorscale": [
             [
              0,
              "#0d0887"
             ],
             [
              0.1111111111111111,
              "#46039f"
             ],
             [
              0.2222222222222222,
              "#7201a8"
             ],
             [
              0.3333333333333333,
              "#9c179e"
             ],
             [
              0.4444444444444444,
              "#bd3786"
             ],
             [
              0.5555555555555556,
              "#d8576b"
             ],
             [
              0.6666666666666666,
              "#ed7953"
             ],
             [
              0.7777777777777778,
              "#fb9f3a"
             ],
             [
              0.8888888888888888,
              "#fdca26"
             ],
             [
              1,
              "#f0f921"
             ]
            ],
            "type": "heatmapgl"
           }
          ],
          "histogram": [
           {
            "marker": {
             "pattern": {
              "fillmode": "overlay",
              "size": 10,
              "solidity": 0.2
             }
            },
            "type": "histogram"
           }
          ],
          "histogram2d": [
           {
            "colorbar": {
             "outlinewidth": 0,
             "ticks": ""
            },
            "colorscale": [
             [
              0,
              "#0d0887"
             ],
             [
              0.1111111111111111,
              "#46039f"
             ],
             [
              0.2222222222222222,
              "#7201a8"
             ],
             [
              0.3333333333333333,
              "#9c179e"
             ],
             [
              0.4444444444444444,
              "#bd3786"
             ],
             [
              0.5555555555555556,
              "#d8576b"
             ],
             [
              0.6666666666666666,
              "#ed7953"
             ],
             [
              0.7777777777777778,
              "#fb9f3a"
             ],
             [
              0.8888888888888888,
              "#fdca26"
             ],
             [
              1,
              "#f0f921"
             ]
            ],
            "type": "histogram2d"
           }
          ],
          "histogram2dcontour": [
           {
            "colorbar": {
             "outlinewidth": 0,
             "ticks": ""
            },
            "colorscale": [
             [
              0,
              "#0d0887"
             ],
             [
              0.1111111111111111,
              "#46039f"
             ],
             [
              0.2222222222222222,
              "#7201a8"
             ],
             [
              0.3333333333333333,
              "#9c179e"
             ],
             [
              0.4444444444444444,
              "#bd3786"
             ],
             [
              0.5555555555555556,
              "#d8576b"
             ],
             [
              0.6666666666666666,
              "#ed7953"
             ],
             [
              0.7777777777777778,
              "#fb9f3a"
             ],
             [
              0.8888888888888888,
              "#fdca26"
             ],
             [
              1,
              "#f0f921"
             ]
            ],
            "type": "histogram2dcontour"
           }
          ],
          "mesh3d": [
           {
            "colorbar": {
             "outlinewidth": 0,
             "ticks": ""
            },
            "type": "mesh3d"
           }
          ],
          "parcoords": [
           {
            "line": {
             "colorbar": {
              "outlinewidth": 0,
              "ticks": ""
             }
            },
            "type": "parcoords"
           }
          ],
          "pie": [
           {
            "automargin": true,
            "type": "pie"
           }
          ],
          "scatter": [
           {
            "marker": {
             "colorbar": {
              "outlinewidth": 0,
              "ticks": ""
             }
            },
            "type": "scatter"
           }
          ],
          "scatter3d": [
           {
            "line": {
             "colorbar": {
              "outlinewidth": 0,
              "ticks": ""
             }
            },
            "marker": {
             "colorbar": {
              "outlinewidth": 0,
              "ticks": ""
             }
            },
            "type": "scatter3d"
           }
          ],
          "scattercarpet": [
           {
            "marker": {
             "colorbar": {
              "outlinewidth": 0,
              "ticks": ""
             }
            },
            "type": "scattercarpet"
           }
          ],
          "scattergeo": [
           {
            "marker": {
             "colorbar": {
              "outlinewidth": 0,
              "ticks": ""
             }
            },
            "type": "scattergeo"
           }
          ],
          "scattergl": [
           {
            "marker": {
             "colorbar": {
              "outlinewidth": 0,
              "ticks": ""
             }
            },
            "type": "scattergl"
           }
          ],
          "scattermapbox": [
           {
            "marker": {
             "colorbar": {
              "outlinewidth": 0,
              "ticks": ""
             }
            },
            "type": "scattermapbox"
           }
          ],
          "scatterpolar": [
           {
            "marker": {
             "colorbar": {
              "outlinewidth": 0,
              "ticks": ""
             }
            },
            "type": "scatterpolar"
           }
          ],
          "scatterpolargl": [
           {
            "marker": {
             "colorbar": {
              "outlinewidth": 0,
              "ticks": ""
             }
            },
            "type": "scatterpolargl"
           }
          ],
          "scatterternary": [
           {
            "marker": {
             "colorbar": {
              "outlinewidth": 0,
              "ticks": ""
             }
            },
            "type": "scatterternary"
           }
          ],
          "surface": [
           {
            "colorbar": {
             "outlinewidth": 0,
             "ticks": ""
            },
            "colorscale": [
             [
              0,
              "#0d0887"
             ],
             [
              0.1111111111111111,
              "#46039f"
             ],
             [
              0.2222222222222222,
              "#7201a8"
             ],
             [
              0.3333333333333333,
              "#9c179e"
             ],
             [
              0.4444444444444444,
              "#bd3786"
             ],
             [
              0.5555555555555556,
              "#d8576b"
             ],
             [
              0.6666666666666666,
              "#ed7953"
             ],
             [
              0.7777777777777778,
              "#fb9f3a"
             ],
             [
              0.8888888888888888,
              "#fdca26"
             ],
             [
              1,
              "#f0f921"
             ]
            ],
            "type": "surface"
           }
          ],
          "table": [
           {
            "cells": {
             "fill": {
              "color": "#EBF0F8"
             },
             "line": {
              "color": "white"
             }
            },
            "header": {
             "fill": {
              "color": "#C8D4E3"
             },
             "line": {
              "color": "white"
             }
            },
            "type": "table"
           }
          ]
         },
         "layout": {
          "annotationdefaults": {
           "arrowcolor": "#2a3f5f",
           "arrowhead": 0,
           "arrowwidth": 1
          },
          "autotypenumbers": "strict",
          "coloraxis": {
           "colorbar": {
            "outlinewidth": 0,
            "ticks": ""
           }
          },
          "colorscale": {
           "diverging": [
            [
             0,
             "#8e0152"
            ],
            [
             0.1,
             "#c51b7d"
            ],
            [
             0.2,
             "#de77ae"
            ],
            [
             0.3,
             "#f1b6da"
            ],
            [
             0.4,
             "#fde0ef"
            ],
            [
             0.5,
             "#f7f7f7"
            ],
            [
             0.6,
             "#e6f5d0"
            ],
            [
             0.7,
             "#b8e186"
            ],
            [
             0.8,
             "#7fbc41"
            ],
            [
             0.9,
             "#4d9221"
            ],
            [
             1,
             "#276419"
            ]
           ],
           "sequential": [
            [
             0,
             "#0d0887"
            ],
            [
             0.1111111111111111,
             "#46039f"
            ],
            [
             0.2222222222222222,
             "#7201a8"
            ],
            [
             0.3333333333333333,
             "#9c179e"
            ],
            [
             0.4444444444444444,
             "#bd3786"
            ],
            [
             0.5555555555555556,
             "#d8576b"
            ],
            [
             0.6666666666666666,
             "#ed7953"
            ],
            [
             0.7777777777777778,
             "#fb9f3a"
            ],
            [
             0.8888888888888888,
             "#fdca26"
            ],
            [
             1,
             "#f0f921"
            ]
           ],
           "sequentialminus": [
            [
             0,
             "#0d0887"
            ],
            [
             0.1111111111111111,
             "#46039f"
            ],
            [
             0.2222222222222222,
             "#7201a8"
            ],
            [
             0.3333333333333333,
             "#9c179e"
            ],
            [
             0.4444444444444444,
             "#bd3786"
            ],
            [
             0.5555555555555556,
             "#d8576b"
            ],
            [
             0.6666666666666666,
             "#ed7953"
            ],
            [
             0.7777777777777778,
             "#fb9f3a"
            ],
            [
             0.8888888888888888,
             "#fdca26"
            ],
            [
             1,
             "#f0f921"
            ]
           ]
          },
          "colorway": [
           "#636efa",
           "#EF553B",
           "#00cc96",
           "#ab63fa",
           "#FFA15A",
           "#19d3f3",
           "#FF6692",
           "#B6E880",
           "#FF97FF",
           "#FECB52"
          ],
          "font": {
           "color": "#2a3f5f"
          },
          "geo": {
           "bgcolor": "white",
           "lakecolor": "white",
           "landcolor": "#E5ECF6",
           "showlakes": true,
           "showland": true,
           "subunitcolor": "white"
          },
          "hoverlabel": {
           "align": "left"
          },
          "hovermode": "closest",
          "mapbox": {
           "style": "light"
          },
          "paper_bgcolor": "white",
          "plot_bgcolor": "#E5ECF6",
          "polar": {
           "angularaxis": {
            "gridcolor": "white",
            "linecolor": "white",
            "ticks": ""
           },
           "bgcolor": "#E5ECF6",
           "radialaxis": {
            "gridcolor": "white",
            "linecolor": "white",
            "ticks": ""
           }
          },
          "scene": {
           "xaxis": {
            "backgroundcolor": "#E5ECF6",
            "gridcolor": "white",
            "gridwidth": 2,
            "linecolor": "white",
            "showbackground": true,
            "ticks": "",
            "zerolinecolor": "white"
           },
           "yaxis": {
            "backgroundcolor": "#E5ECF6",
            "gridcolor": "white",
            "gridwidth": 2,
            "linecolor": "white",
            "showbackground": true,
            "ticks": "",
            "zerolinecolor": "white"
           },
           "zaxis": {
            "backgroundcolor": "#E5ECF6",
            "gridcolor": "white",
            "gridwidth": 2,
            "linecolor": "white",
            "showbackground": true,
            "ticks": "",
            "zerolinecolor": "white"
           }
          },
          "shapedefaults": {
           "line": {
            "color": "#2a3f5f"
           }
          },
          "ternary": {
           "aaxis": {
            "gridcolor": "white",
            "linecolor": "white",
            "ticks": ""
           },
           "baxis": {
            "gridcolor": "white",
            "linecolor": "white",
            "ticks": ""
           },
           "bgcolor": "#E5ECF6",
           "caxis": {
            "gridcolor": "white",
            "linecolor": "white",
            "ticks": ""
           }
          },
          "title": {
           "x": 0.05
          },
          "xaxis": {
           "automargin": true,
           "gridcolor": "white",
           "linecolor": "white",
           "ticks": "",
           "title": {
            "standoff": 15
           },
           "zerolinecolor": "white",
           "zerolinewidth": 2
          },
          "yaxis": {
           "automargin": true,
           "gridcolor": "white",
           "linecolor": "white",
           "ticks": "",
           "title": {
            "standoff": 15
           },
           "zerolinecolor": "white",
           "zerolinewidth": 2
          }
         }
        }
       }
      },
      "text/html": [
       "<div>                            <div id=\"8d383994-3e45-40d2-aba6-c1cee1e44f21\" class=\"plotly-graph-div\" style=\"height:525px; width:100%;\"></div>            <script type=\"text/javascript\">                require([\"plotly\"], function(Plotly) {                    window.PLOTLYENV=window.PLOTLYENV || {};                                    if (document.getElementById(\"8d383994-3e45-40d2-aba6-c1cee1e44f21\")) {                    Plotly.newPlot(                        \"8d383994-3e45-40d2-aba6-c1cee1e44f21\",                        [{\"hovertemplate\":\"Bayesian=%{x}<br>Random Search=%{y}<br>Hyperband=%{z}<br>size=%{marker.size}<br>color=%{marker.color}<extra></extra>\",\"legendgroup\":\"\",\"marker\":{\"color\":[0,1,2,3,4,5,6,7,8,9,10,11,12,13,14,15,16,17,18,19,20,21,22,23,24,25,26,27,28,29,30,31,32,33,34,35,36,37,38,39,40,41,42,43,44,45,46,47,48,49],\"coloraxis\":\"coloraxis\",\"opacity\":0.7,\"size\":[0,1,2,3,4,5,6,7,8,9,10,11,12,13,14,15,16,17,18,19,20,21,22,23,24,25,26,27,28,29,30,31,32,33,34,35,36,37,38,39,40,41,42,43,44,45,46,47,48,49],\"sizemode\":\"area\",\"sizeref\":0.15123456790123457,\"symbol\":\"circle\"},\"mode\":\"markers\",\"name\":\"\",\"scene\":\"scene\",\"showlegend\":false,\"x\":[0.03146429359912872,0.03230215236544609,0.030521446838974953,0.02622758410871029,0.029153943061828613,0.027122607454657555,0.0293770469725132,0.025378573685884476,0.02508174441754818,0.02722361870110035,0.029331481084227562,0.028191685676574707,0.02634253166615963,0.023487258702516556,0.028102753683924675,0.029790285974740982,0.02647419273853302,0.02682606503367424,0.02960336022078991,0.02662360668182373,0.030309468507766724,0.02784535475075245,0.027292655780911446,0.02383231557905674,0.028598155826330185,0.026165282353758812,0.028978947550058365,0.028250951319932938,0.026070399209856987,0.028221184387803078,0.02012086845934391,0.02656138315796852,0.024174712598323822,0.02614225260913372,0.026391571387648582,0.023217909038066864,0.02405126765370369,0.02776069939136505,0.02444695308804512,0.028878122568130493,0.03220996633172035,0.029746776446700096,0.025586513802409172,0.028185712173581123,0.02623535506427288,0.026247374713420868,0.026988985016942024,0.02668391540646553,0.028599653393030167,0.03053903393447399],\"y\":[0.08710793405771255,0.08069758862257004,0.08020149916410446,0.08318126946687698,0.07635343074798584,0.07632649689912796,0.07831504195928574,0.08226538449525833,0.07962725311517715,0.08274336159229279,0.08139856904745102,0.08368032425642014,0.07498400658369064,0.07904426008462906,0.08334372937679291,0.0827774778008461,0.08270145952701569,0.0795970931649208,0.07794739305973053,0.08065759390592575,0.07768578082323074,0.08076730370521545,0.0821889266371727,0.08403041213750839,0.08362274616956711,0.07907455414533615,0.08215812593698502,0.07906310260295868,0.07694809138774872,0.08130225539207458,0.07991509139537811,0.08350241929292679,0.08180618286132812,0.07371844351291656,0.08160969614982605,0.08604587614536285,0.07580284029245377,0.07897592335939407,0.08349449187517166,0.08242852240800858,0.07990644127130508,0.08340565115213394,0.08627817034721375,0.0808948203921318,0.07852134108543396,0.08080781251192093,0.07762894034385681,0.07967715710401535,0.08274371922016144,0.08246428519487381],\"z\":[0.05711653456091881,0.05543188378214836,0.05154527351260185,0.047344841063022614,0.052484504878520966,0.051657579839229584,0.05470030754804611,0.04926809296011925,0.052674420177936554,0.0520981140434742,0.05742353945970535,0.05390266329050064,0.053086113184690475,0.05199776962399483,0.051747988909482956,0.052145276218652725,0.055901460349559784,0.05529206991195679,0.052203547209501266,0.05079430714249611,0.05587661638855934,0.05914594605565071,0.054171886295080185,0.05067353695631027,0.05722200125455856,0.05531745031476021,0.04748113080859184,0.05315059423446655,0.05836034566164017,0.05413250997662544,0.05454809591174126,0.055625222623348236,0.05217263847589493,0.052448030561208725,0.05370595306158066,0.05457388982176781,0.05326324328780174,0.055752020329236984,0.05477938428521156,0.05120036378502846,0.05178191140294075,0.05221560597419739,0.05390363559126854,0.05421225354075432,0.05284927785396576,0.056371696293354034,0.05323535203933716,0.05909987539052963,0.05193730443716049,0.05292043089866638],\"type\":\"scatter3d\"}],                        {\"template\":{\"data\":{\"bar\":[{\"error_x\":{\"color\":\"#2a3f5f\"},\"error_y\":{\"color\":\"#2a3f5f\"},\"marker\":{\"line\":{\"color\":\"#E5ECF6\",\"width\":0.5},\"pattern\":{\"fillmode\":\"overlay\",\"size\":10,\"solidity\":0.2}},\"type\":\"bar\"}],\"barpolar\":[{\"marker\":{\"line\":{\"color\":\"#E5ECF6\",\"width\":0.5},\"pattern\":{\"fillmode\":\"overlay\",\"size\":10,\"solidity\":0.2}},\"type\":\"barpolar\"}],\"carpet\":[{\"aaxis\":{\"endlinecolor\":\"#2a3f5f\",\"gridcolor\":\"white\",\"linecolor\":\"white\",\"minorgridcolor\":\"white\",\"startlinecolor\":\"#2a3f5f\"},\"baxis\":{\"endlinecolor\":\"#2a3f5f\",\"gridcolor\":\"white\",\"linecolor\":\"white\",\"minorgridcolor\":\"white\",\"startlinecolor\":\"#2a3f5f\"},\"type\":\"carpet\"}],\"choropleth\":[{\"colorbar\":{\"outlinewidth\":0,\"ticks\":\"\"},\"type\":\"choropleth\"}],\"contour\":[{\"colorbar\":{\"outlinewidth\":0,\"ticks\":\"\"},\"colorscale\":[[0.0,\"#0d0887\"],[0.1111111111111111,\"#46039f\"],[0.2222222222222222,\"#7201a8\"],[0.3333333333333333,\"#9c179e\"],[0.4444444444444444,\"#bd3786\"],[0.5555555555555556,\"#d8576b\"],[0.6666666666666666,\"#ed7953\"],[0.7777777777777778,\"#fb9f3a\"],[0.8888888888888888,\"#fdca26\"],[1.0,\"#f0f921\"]],\"type\":\"contour\"}],\"contourcarpet\":[{\"colorbar\":{\"outlinewidth\":0,\"ticks\":\"\"},\"type\":\"contourcarpet\"}],\"heatmap\":[{\"colorbar\":{\"outlinewidth\":0,\"ticks\":\"\"},\"colorscale\":[[0.0,\"#0d0887\"],[0.1111111111111111,\"#46039f\"],[0.2222222222222222,\"#7201a8\"],[0.3333333333333333,\"#9c179e\"],[0.4444444444444444,\"#bd3786\"],[0.5555555555555556,\"#d8576b\"],[0.6666666666666666,\"#ed7953\"],[0.7777777777777778,\"#fb9f3a\"],[0.8888888888888888,\"#fdca26\"],[1.0,\"#f0f921\"]],\"type\":\"heatmap\"}],\"heatmapgl\":[{\"colorbar\":{\"outlinewidth\":0,\"ticks\":\"\"},\"colorscale\":[[0.0,\"#0d0887\"],[0.1111111111111111,\"#46039f\"],[0.2222222222222222,\"#7201a8\"],[0.3333333333333333,\"#9c179e\"],[0.4444444444444444,\"#bd3786\"],[0.5555555555555556,\"#d8576b\"],[0.6666666666666666,\"#ed7953\"],[0.7777777777777778,\"#fb9f3a\"],[0.8888888888888888,\"#fdca26\"],[1.0,\"#f0f921\"]],\"type\":\"heatmapgl\"}],\"histogram\":[{\"marker\":{\"pattern\":{\"fillmode\":\"overlay\",\"size\":10,\"solidity\":0.2}},\"type\":\"histogram\"}],\"histogram2d\":[{\"colorbar\":{\"outlinewidth\":0,\"ticks\":\"\"},\"colorscale\":[[0.0,\"#0d0887\"],[0.1111111111111111,\"#46039f\"],[0.2222222222222222,\"#7201a8\"],[0.3333333333333333,\"#9c179e\"],[0.4444444444444444,\"#bd3786\"],[0.5555555555555556,\"#d8576b\"],[0.6666666666666666,\"#ed7953\"],[0.7777777777777778,\"#fb9f3a\"],[0.8888888888888888,\"#fdca26\"],[1.0,\"#f0f921\"]],\"type\":\"histogram2d\"}],\"histogram2dcontour\":[{\"colorbar\":{\"outlinewidth\":0,\"ticks\":\"\"},\"colorscale\":[[0.0,\"#0d0887\"],[0.1111111111111111,\"#46039f\"],[0.2222222222222222,\"#7201a8\"],[0.3333333333333333,\"#9c179e\"],[0.4444444444444444,\"#bd3786\"],[0.5555555555555556,\"#d8576b\"],[0.6666666666666666,\"#ed7953\"],[0.7777777777777778,\"#fb9f3a\"],[0.8888888888888888,\"#fdca26\"],[1.0,\"#f0f921\"]],\"type\":\"histogram2dcontour\"}],\"mesh3d\":[{\"colorbar\":{\"outlinewidth\":0,\"ticks\":\"\"},\"type\":\"mesh3d\"}],\"parcoords\":[{\"line\":{\"colorbar\":{\"outlinewidth\":0,\"ticks\":\"\"}},\"type\":\"parcoords\"}],\"pie\":[{\"automargin\":true,\"type\":\"pie\"}],\"scatter\":[{\"marker\":{\"colorbar\":{\"outlinewidth\":0,\"ticks\":\"\"}},\"type\":\"scatter\"}],\"scatter3d\":[{\"line\":{\"colorbar\":{\"outlinewidth\":0,\"ticks\":\"\"}},\"marker\":{\"colorbar\":{\"outlinewidth\":0,\"ticks\":\"\"}},\"type\":\"scatter3d\"}],\"scattercarpet\":[{\"marker\":{\"colorbar\":{\"outlinewidth\":0,\"ticks\":\"\"}},\"type\":\"scattercarpet\"}],\"scattergeo\":[{\"marker\":{\"colorbar\":{\"outlinewidth\":0,\"ticks\":\"\"}},\"type\":\"scattergeo\"}],\"scattergl\":[{\"marker\":{\"colorbar\":{\"outlinewidth\":0,\"ticks\":\"\"}},\"type\":\"scattergl\"}],\"scattermapbox\":[{\"marker\":{\"colorbar\":{\"outlinewidth\":0,\"ticks\":\"\"}},\"type\":\"scattermapbox\"}],\"scatterpolar\":[{\"marker\":{\"colorbar\":{\"outlinewidth\":0,\"ticks\":\"\"}},\"type\":\"scatterpolar\"}],\"scatterpolargl\":[{\"marker\":{\"colorbar\":{\"outlinewidth\":0,\"ticks\":\"\"}},\"type\":\"scatterpolargl\"}],\"scatterternary\":[{\"marker\":{\"colorbar\":{\"outlinewidth\":0,\"ticks\":\"\"}},\"type\":\"scatterternary\"}],\"surface\":[{\"colorbar\":{\"outlinewidth\":0,\"ticks\":\"\"},\"colorscale\":[[0.0,\"#0d0887\"],[0.1111111111111111,\"#46039f\"],[0.2222222222222222,\"#7201a8\"],[0.3333333333333333,\"#9c179e\"],[0.4444444444444444,\"#bd3786\"],[0.5555555555555556,\"#d8576b\"],[0.6666666666666666,\"#ed7953\"],[0.7777777777777778,\"#fb9f3a\"],[0.8888888888888888,\"#fdca26\"],[1.0,\"#f0f921\"]],\"type\":\"surface\"}],\"table\":[{\"cells\":{\"fill\":{\"color\":\"#EBF0F8\"},\"line\":{\"color\":\"white\"}},\"header\":{\"fill\":{\"color\":\"#C8D4E3\"},\"line\":{\"color\":\"white\"}},\"type\":\"table\"}]},\"layout\":{\"annotationdefaults\":{\"arrowcolor\":\"#2a3f5f\",\"arrowhead\":0,\"arrowwidth\":1},\"autotypenumbers\":\"strict\",\"coloraxis\":{\"colorbar\":{\"outlinewidth\":0,\"ticks\":\"\"}},\"colorscale\":{\"diverging\":[[0,\"#8e0152\"],[0.1,\"#c51b7d\"],[0.2,\"#de77ae\"],[0.3,\"#f1b6da\"],[0.4,\"#fde0ef\"],[0.5,\"#f7f7f7\"],[0.6,\"#e6f5d0\"],[0.7,\"#b8e186\"],[0.8,\"#7fbc41\"],[0.9,\"#4d9221\"],[1,\"#276419\"]],\"sequential\":[[0.0,\"#0d0887\"],[0.1111111111111111,\"#46039f\"],[0.2222222222222222,\"#7201a8\"],[0.3333333333333333,\"#9c179e\"],[0.4444444444444444,\"#bd3786\"],[0.5555555555555556,\"#d8576b\"],[0.6666666666666666,\"#ed7953\"],[0.7777777777777778,\"#fb9f3a\"],[0.8888888888888888,\"#fdca26\"],[1.0,\"#f0f921\"]],\"sequentialminus\":[[0.0,\"#0d0887\"],[0.1111111111111111,\"#46039f\"],[0.2222222222222222,\"#7201a8\"],[0.3333333333333333,\"#9c179e\"],[0.4444444444444444,\"#bd3786\"],[0.5555555555555556,\"#d8576b\"],[0.6666666666666666,\"#ed7953\"],[0.7777777777777778,\"#fb9f3a\"],[0.8888888888888888,\"#fdca26\"],[1.0,\"#f0f921\"]]},\"colorway\":[\"#636efa\",\"#EF553B\",\"#00cc96\",\"#ab63fa\",\"#FFA15A\",\"#19d3f3\",\"#FF6692\",\"#B6E880\",\"#FF97FF\",\"#FECB52\"],\"font\":{\"color\":\"#2a3f5f\"},\"geo\":{\"bgcolor\":\"white\",\"lakecolor\":\"white\",\"landcolor\":\"#E5ECF6\",\"showlakes\":true,\"showland\":true,\"subunitcolor\":\"white\"},\"hoverlabel\":{\"align\":\"left\"},\"hovermode\":\"closest\",\"mapbox\":{\"style\":\"light\"},\"paper_bgcolor\":\"white\",\"plot_bgcolor\":\"#E5ECF6\",\"polar\":{\"angularaxis\":{\"gridcolor\":\"white\",\"linecolor\":\"white\",\"ticks\":\"\"},\"bgcolor\":\"#E5ECF6\",\"radialaxis\":{\"gridcolor\":\"white\",\"linecolor\":\"white\",\"ticks\":\"\"}},\"scene\":{\"xaxis\":{\"backgroundcolor\":\"#E5ECF6\",\"gridcolor\":\"white\",\"gridwidth\":2,\"linecolor\":\"white\",\"showbackground\":true,\"ticks\":\"\",\"zerolinecolor\":\"white\"},\"yaxis\":{\"backgroundcolor\":\"#E5ECF6\",\"gridcolor\":\"white\",\"gridwidth\":2,\"linecolor\":\"white\",\"showbackground\":true,\"ticks\":\"\",\"zerolinecolor\":\"white\"},\"zaxis\":{\"backgroundcolor\":\"#E5ECF6\",\"gridcolor\":\"white\",\"gridwidth\":2,\"linecolor\":\"white\",\"showbackground\":true,\"ticks\":\"\",\"zerolinecolor\":\"white\"}},\"shapedefaults\":{\"line\":{\"color\":\"#2a3f5f\"}},\"ternary\":{\"aaxis\":{\"gridcolor\":\"white\",\"linecolor\":\"white\",\"ticks\":\"\"},\"baxis\":{\"gridcolor\":\"white\",\"linecolor\":\"white\",\"ticks\":\"\"},\"bgcolor\":\"#E5ECF6\",\"caxis\":{\"gridcolor\":\"white\",\"linecolor\":\"white\",\"ticks\":\"\"}},\"title\":{\"x\":0.05},\"xaxis\":{\"automargin\":true,\"gridcolor\":\"white\",\"linecolor\":\"white\",\"ticks\":\"\",\"title\":{\"standoff\":15},\"zerolinecolor\":\"white\",\"zerolinewidth\":2},\"yaxis\":{\"automargin\":true,\"gridcolor\":\"white\",\"linecolor\":\"white\",\"ticks\":\"\",\"title\":{\"standoff\":15},\"zerolinecolor\":\"white\",\"zerolinewidth\":2}}},\"scene\":{\"domain\":{\"x\":[0.0,1.0],\"y\":[0.0,1.0]},\"xaxis\":{\"title\":{\"text\":\"Bayesian\"}},\"yaxis\":{\"title\":{\"text\":\"Random Search\"}},\"zaxis\":{\"title\":{\"text\":\"Hyperband\"}}},\"coloraxis\":{\"colorbar\":{\"title\":{\"text\":\"color\"}},\"colorscale\":[[0.0,\"#0d0887\"],[0.1111111111111111,\"#46039f\"],[0.2222222222222222,\"#7201a8\"],[0.3333333333333333,\"#9c179e\"],[0.4444444444444444,\"#bd3786\"],[0.5555555555555556,\"#d8576b\"],[0.6666666666666666,\"#ed7953\"],[0.7777777777777778,\"#fb9f3a\"],[0.8888888888888888,\"#fdca26\"],[1.0,\"#f0f921\"]]},\"legend\":{\"tracegroupgap\":0,\"itemsizing\":\"constant\"},\"margin\":{\"t\":0,\"l\":0,\"r\":0,\"b\":0}},                        {\"responsive\": true}                    ).then(function(){\n",
       "                            \n",
       "var gd = document.getElementById('8d383994-3e45-40d2-aba6-c1cee1e44f21');\n",
       "var x = new MutationObserver(function (mutations, observer) {{\n",
       "        var display = window.getComputedStyle(gd).display;\n",
       "        if (!display || display === 'none') {{\n",
       "            console.log([gd, 'removed!']);\n",
       "            Plotly.purge(gd);\n",
       "            observer.disconnect();\n",
       "        }}\n",
       "}});\n",
       "\n",
       "// Listen for the removal of the full notebook cells\n",
       "var notebookContainer = gd.closest('#notebook-container');\n",
       "if (notebookContainer) {{\n",
       "    x.observe(notebookContainer, {childList: true});\n",
       "}}\n",
       "\n",
       "// Listen for the clearing of the current output cell\n",
       "var outputEl = gd.closest('.output');\n",
       "if (outputEl) {{\n",
       "    x.observe(outputEl, {childList: true});\n",
       "}}\n",
       "\n",
       "                        })                };                });            </script>        </div>"
      ]
     },
     "metadata": {},
     "output_type": "display_data"
    }
   ],
   "source": [
    "import plotly.express as px\n",
    "df = px.data.iris()\n",
    "fig = px.scatter_3d(lossdf, x='Bayesian', y='Random Search', z='Hyperband',\n",
    "              color=list(range(0, 50)), size=list(range(0, 50)), size_max=18,\n",
    "                opacity=0.7)\n",
    "\n",
    "# tight layout\n",
    "fig.update_layout(margin=dict(l=0, r=0, b=0, t=0))\n",
    "# 4D graph where color represent the epochs from 0-50 \n",
    "# can see that in each epoch Bayesian is doing good for example \n",
    "at Epoch 47 - b - 0.02 ,rs = 0.07 ,hb = 0.05\n"
   ]
  },
  {
   "cell_type": "code",
   "execution_count": 101,
   "id": "e0edb4c8",
   "metadata": {
    "scrolled": false
   },
   "outputs": [
    {
     "data": {
      "text/plain": [
       "<matplotlib.legend.Legend at 0x24d359ad580>"
      ]
     },
     "execution_count": 101,
     "metadata": {},
     "output_type": "execute_result"
    },
    {
     "data": {
      "image/png": "[encoded data removed]",
      "text/plain": [
       "<Figure size 1008x576 with 1 Axes>"
      ]
     },
     "metadata": {},
     "output_type": "display_data"
    }
   ],
   "source": [
    " #lets plot all in one now\n",
    "#plt.plot(fit_1.fittedvalues, label = \"HyperBand\" ,color='Green') #.8\n",
    "#plt.plot(fit_2.fittedvalues, label = \"Random Search\t\",color='Red') # .6 \n",
    "plt.plot(lossdf['Hyperband'],label = \"HyperBand\", color='red') # \n",
    "plt.plot(lossdf['Bayesian'],label = \"Original\", color='green') # \n",
    "plt.plot(lossdf['Random Search'],label = \"Random Search\",color='yellow') # \n",
    " \n",
    "\n",
    "plt.title('HP Tuning loss')\n",
    "plt.xlabel('epochs')\n",
    "plt.ylabel('mse')\n",
    "plt.legend(loc='best')"
   ]
  },
  {
   "cell_type": "markdown",
   "id": "9539a5a0",
   "metadata": {},
   "source": [
    "#### Loading the tensor board for Bayesian"
   ]
  },
  {
   "cell_type": "code",
   "execution_count": 132,
   "id": "4a3c8f61",
   "metadata": {
    "scrolled": true
   },
   "outputs": [
    {
     "name": "stdout",
     "output_type": "stream",
     "text": [
      "The tensorboard extension is already loaded. To reload it, use:\n",
      "  %reload_ext tensorboard\n"
     ]
    },
    {
     "data": {
      "text/plain": [
       "Reusing TensorBoard on port 6006 (pid 33720), started 21:02:05 ago. (Use '!kill 33720' to kill it.)"
      ]
     },
     "metadata": {},
     "output_type": "display_data"
    },
    {
     "data": {
      "text/html": [
       "\n",
       "      <iframe id=\"tensorboard-frame-363c3be7ef31dc2\" width=\"100%\" height=\"800\" frameborder=\"0\">\n",
       "      </iframe>\n",
       "      <script>\n",
       "        (function() {\n",
       "          const frame = document.getElementById(\"tensorboard-frame-363c3be7ef31dc2\");\n",
       "          const url = new URL(\"/\", window.location);\n",
       "          const port = 6006;\n",
       "          if (port) {\n",
       "            url.port = port;\n",
       "          }\n",
       "          frame.src = url;\n",
       "        })();\n",
       "      </script>\n",
       "    "
      ],
      "text/plain": [
       "<IPython.core.display.HTML object>"
      ]
     },
     "metadata": {},
     "output_type": "display_data"
    }
   ],
   "source": [
    "#loading tensor board may take some time ,  \n",
    "%load_ext tensorboard\n",
    "\n",
    "%tensorboard --logdir /tmp/tb_logs"
   ]
  },
  {
   "cell_type": "markdown",
   "id": "ddb45eb5",
   "metadata": {},
   "source": [
    "## All the Search algorithems did well"
   ]
  },
  {
   "cell_type": "markdown",
   "id": "350439b1",
   "metadata": {},
   "source": [
    "#### Result \n",
    "- Bayesian is the key take away with best tuned HPs,\n",
    "- Hyperband and Random Search are based on probability so any given day they might beat or equal Bayesian\n",
    "- In Conclusion it can be derrived that for FTSE stock price time series forecasting with LSTM , Bayesian is the best HP optimizer \n",
    "\n",
    "\n",
    "#### Future Work\n",
    "- Improve this work by tuning Epochs and batch sizes \n",
    "- check about how hyper parameters related to each other\n",
    "- develop a custom search function \n"
   ]
  },
  {
   "cell_type": "markdown",
   "id": "121e5e16",
   "metadata": {},
   "source": [
    "#### Some good tutorials which helped to build this code\n",
    "\n",
    "- 50 best mat-plot graphs for python \n",
    "https://www.machinelearningplus.com/plots/top-50-matplotlib-visualizations-the-master-plots-python/#49.-Andrews-Curve\n",
    "- Time series data analysis ( they have their own plot library for python )\n",
    "https://www.aptech.com/blog/introduction-to-the-fundamentals-of-time-series-data-and-analysis/\n",
    "    Gauss tutorials \n",
    "    https://docs.aptech.com/gauss/plotts.html"
   ]
  }
 ],
 "metadata": {
  "kernelspec": {
   "display_name": "Python 3 (ipykernel)",
   "language": "python",
   "name": "python3"
  },
  "language_info": {
   "codemirror_mode": {
    "name": "ipython",
    "version": 3
   },
   "file_extension": ".py",
   "mimetype": "text/x-python",
   "name": "python",
   "nbconvert_exporter": "python",
   "pygments_lexer": "ipython3",
   "version": "3.9.7"
  }
 },
 "nbformat": 4,
 "nbformat_minor": 5
}
